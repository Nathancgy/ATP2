{
 "cells": [
  {
   "cell_type": "code",
   "execution_count": null,
   "metadata": {},
   "outputs": [],
   "source": [
    "import csv\n",
    "\n",
    "import numpy as np\n",
    "import tensorflow as tf\n",
    "from sklearn.model_selection import train_test_split\n",
    "\n",
    "RANDOM_SEED = 42"
   ]
  },
  {
   "cell_type": "markdown",
   "metadata": {},
   "source": [
    "# 各パス指定"
   ]
  },
  {
   "cell_type": "code",
   "execution_count": null,
   "metadata": {},
   "outputs": [],
   "source": [
    "dataset = 'model/keypoint_classifier/keypoint.csv'\n",
    "model_save_path = 'model/keypoint_classifier/keypoint_classifier.hdf5'"
   ]
  },
  {
   "cell_type": "markdown",
   "metadata": {},
   "source": [
    "# 分類数設定"
   ]
  },
  {
   "cell_type": "code",
   "execution_count": null,
   "metadata": {},
   "outputs": [],
   "source": [
    "NUM_CLASSES = 6"
   ]
  },
  {
   "cell_type": "markdown",
   "metadata": {},
   "source": [
    "# 学習データ読み込み"
   ]
  },
  {
   "cell_type": "code",
   "execution_count": null,
   "metadata": {},
   "outputs": [],
   "source": [
    "X_dataset = np.loadtxt(dataset, delimiter=',', dtype='float32', usecols=list(range(1, (21 * 2) + 1)))"
   ]
  },
  {
   "cell_type": "code",
   "execution_count": null,
   "metadata": {},
   "outputs": [],
   "source": [
    "y_dataset = np.loadtxt(dataset, delimiter=',', dtype='int32', usecols=(0))"
   ]
  },
  {
   "cell_type": "code",
   "execution_count": null,
   "metadata": {},
   "outputs": [],
   "source": [
    "X_train, X_test, y_train, y_test = train_test_split(X_dataset, y_dataset, train_size=0.75, random_state=RANDOM_SEED)"
   ]
  },
  {
   "cell_type": "markdown",
   "metadata": {},
   "source": [
    "# モデル構築"
   ]
  },
  {
   "cell_type": "code",
   "execution_count": null,
   "metadata": {},
   "outputs": [],
   "source": [
    "model = tf.keras.models.Sequential([\n",
    "    tf.keras.layers.Input((21 * 2, )),\n",
    "    tf.keras.layers.Dropout(0.2),\n",
    "    tf.keras.layers.Dense(20, activation='relu'),\n",
    "    tf.keras.layers.Dropout(0.4),\n",
    "    tf.keras.layers.Dense(10, activation='relu'),\n",
    "    tf.keras.layers.Dense(NUM_CLASSES, activation='softmax')\n",
    "])"
   ]
  },
  {
   "cell_type": "code",
   "execution_count": null,
   "metadata": {},
   "outputs": [
    {
     "name": "stdout",
     "output_type": "stream",
     "text": [
      "Model: \"sequential_2\"\n",
      "_________________________________________________________________\n",
      " Layer (type)                Output Shape              Param #   \n",
      "=================================================================\n",
      " dropout_4 (Dropout)         (None, 42)                0         \n",
      "                                                                 \n",
      " dense_6 (Dense)             (None, 20)                860       \n",
      "                                                                 \n",
      " dropout_5 (Dropout)         (None, 20)                0         \n",
      "                                                                 \n",
      " dense_7 (Dense)             (None, 10)                210       \n",
      "                                                                 \n",
      " dense_8 (Dense)             (None, 6)                 66        \n",
      "                                                                 \n",
      "=================================================================\n",
      "Total params: 1,136\n",
      "Trainable params: 1,136\n",
      "Non-trainable params: 0\n",
      "_________________________________________________________________\n"
     ]
    }
   ],
   "source": [
    "model.summary()  # tf.keras.utils.plot_model(model, show_shapes=True)"
   ]
  },
  {
   "cell_type": "code",
   "execution_count": null,
   "metadata": {},
   "outputs": [],
   "source": [
    "# モデルチェックポイントのコールバック\n",
    "cp_callback = tf.keras.callbacks.ModelCheckpoint(\n",
    "    model_save_path, verbose=1, save_weights_only=False)\n",
    "# 早期打ち切り用コールバック\n",
    "es_callback = tf.keras.callbacks.EarlyStopping(patience=20, verbose=1)"
   ]
  },
  {
   "cell_type": "code",
   "execution_count": null,
   "metadata": {},
   "outputs": [],
   "source": [
    "# モデルコンパイル\n",
    "model.compile(\n",
    "    optimizer='adam',\n",
    "    loss='sparse_categorical_crossentropy',\n",
    "    metrics=['accuracy']\n",
    ")"
   ]
  },
  {
   "cell_type": "markdown",
   "metadata": {},
   "source": [
    "# モデル訓練"
   ]
  },
  {
   "cell_type": "code",
   "execution_count": null,
   "metadata": {
    "scrolled": true
   },
   "outputs": [
    {
     "name": "stdout",
     "output_type": "stream",
     "text": [
      "Epoch 1/1000\n",
      " 1/50 [..............................] - ETA: 17s - loss: 1.8223 - accuracy: 0.2734\n",
      "Epoch 1: saving model to model/keypoint_classifier/keypoint_classifier.hdf5\n",
      "50/50 [==============================] - 0s 3ms/step - loss: 1.6620 - accuracy: 0.3209 - val_loss: 1.5210 - val_accuracy: 0.3080\n",
      "Epoch 2/1000\n",
      " 1/50 [..............................] - ETA: 0s - loss: 1.5046 - accuracy: 0.3516\n",
      "Epoch 2: saving model to model/keypoint_classifier/keypoint_classifier.hdf5\n",
      "50/50 [==============================] - 0s 1ms/step - loss: 1.4630 - accuracy: 0.3763 - val_loss: 1.3462 - val_accuracy: 0.3739\n",
      "Epoch 3/1000\n",
      " 1/50 [..............................] - ETA: 0s - loss: 1.3811 - accuracy: 0.4141\n",
      "Epoch 3: saving model to model/keypoint_classifier/keypoint_classifier.hdf5\n",
      "50/50 [==============================] - 0s 1ms/step - loss: 1.3558 - accuracy: 0.4087 - val_loss: 1.2421 - val_accuracy: 0.4565\n",
      "Epoch 4/1000\n",
      " 1/50 [..............................] - ETA: 0s - loss: 1.3407 - accuracy: 0.4219\n",
      "Epoch 4: saving model to model/keypoint_classifier/keypoint_classifier.hdf5\n",
      "50/50 [==============================] - 0s 1ms/step - loss: 1.2872 - accuracy: 0.4311 - val_loss: 1.1418 - val_accuracy: 0.5205\n",
      "Epoch 5/1000\n",
      " 1/50 [..............................] - ETA: 0s - loss: 1.2689 - accuracy: 0.4688\n",
      "Epoch 5: saving model to model/keypoint_classifier/keypoint_classifier.hdf5\n",
      "50/50 [==============================] - 0s 1ms/step - loss: 1.2071 - accuracy: 0.4654 - val_loss: 1.0423 - val_accuracy: 0.5993\n",
      "Epoch 6/1000\n",
      " 1/50 [..............................] - ETA: 0s - loss: 1.2135 - accuracy: 0.4844\n",
      "Epoch 6: saving model to model/keypoint_classifier/keypoint_classifier.hdf5\n",
      "50/50 [==============================] - 0s 1ms/step - loss: 1.1373 - accuracy: 0.5018 - val_loss: 0.9625 - val_accuracy: 0.5864\n",
      "Epoch 7/1000\n",
      " 1/50 [..............................] - ETA: 0s - loss: 1.0822 - accuracy: 0.5312\n",
      "Epoch 7: saving model to model/keypoint_classifier/keypoint_classifier.hdf5\n",
      "50/50 [==============================] - 0s 1ms/step - loss: 1.0916 - accuracy: 0.5244 - val_loss: 0.8922 - val_accuracy: 0.6414\n",
      "Epoch 8/1000\n",
      " 1/50 [..............................] - ETA: 0s - loss: 1.0923 - accuracy: 0.5078\n",
      "Epoch 8: saving model to model/keypoint_classifier/keypoint_classifier.hdf5\n",
      "50/50 [==============================] - 0s 1ms/step - loss: 1.0435 - accuracy: 0.5370 - val_loss: 0.8316 - val_accuracy: 0.6886\n",
      "Epoch 9/1000\n",
      " 1/50 [..............................] - ETA: 0s - loss: 0.9409 - accuracy: 0.6016\n",
      "Epoch 9: saving model to model/keypoint_classifier/keypoint_classifier.hdf5\n",
      "50/50 [==============================] - 0s 1ms/step - loss: 0.9988 - accuracy: 0.5674 - val_loss: 0.7773 - val_accuracy: 0.7436\n",
      "Epoch 10/1000\n",
      " 1/50 [..............................] - ETA: 0s - loss: 1.0978 - accuracy: 0.4922\n",
      "Epoch 10: saving model to model/keypoint_classifier/keypoint_classifier.hdf5\n",
      "50/50 [==============================] - 0s 1ms/step - loss: 0.9820 - accuracy: 0.5810 - val_loss: 0.7445 - val_accuracy: 0.7006\n",
      "Epoch 11/1000\n",
      " 1/50 [..............................] - ETA: 0s - loss: 0.9764 - accuracy: 0.6328\n",
      "Epoch 11: saving model to model/keypoint_classifier/keypoint_classifier.hdf5\n",
      "50/50 [==============================] - 0s 1ms/step - loss: 0.9538 - accuracy: 0.5952 - val_loss: 0.7140 - val_accuracy: 0.7221\n",
      "Epoch 12/1000\n",
      " 1/50 [..............................] - ETA: 0s - loss: 0.9514 - accuracy: 0.5859\n",
      "Epoch 12: saving model to model/keypoint_classifier/keypoint_classifier.hdf5\n",
      "50/50 [==============================] - 0s 1ms/step - loss: 0.9178 - accuracy: 0.6044 - val_loss: 0.6805 - val_accuracy: 0.7631\n",
      "Epoch 13/1000\n",
      " 1/50 [..............................] - ETA: 0s - loss: 0.9150 - accuracy: 0.6406\n",
      "Epoch 13: saving model to model/keypoint_classifier/keypoint_classifier.hdf5\n",
      "50/50 [==============================] - 0s 1ms/step - loss: 0.9002 - accuracy: 0.6157 - val_loss: 0.6486 - val_accuracy: 0.8176\n",
      "Epoch 14/1000\n",
      " 1/50 [..............................] - ETA: 0s - loss: 0.8286 - accuracy: 0.6562\n",
      "Epoch 14: saving model to model/keypoint_classifier/keypoint_classifier.hdf5\n",
      "50/50 [==============================] - 0s 1ms/step - loss: 0.8867 - accuracy: 0.6167 - val_loss: 0.6344 - val_accuracy: 0.8214\n",
      "Epoch 15/1000\n",
      " 1/50 [..............................] - ETA: 0s - loss: 0.7791 - accuracy: 0.6484\n",
      "Epoch 15: saving model to model/keypoint_classifier/keypoint_classifier.hdf5\n",
      "50/50 [==============================] - 0s 1ms/step - loss: 0.8505 - accuracy: 0.6347 - val_loss: 0.6101 - val_accuracy: 0.8376\n",
      "Epoch 16/1000\n",
      " 1/50 [..............................] - ETA: 0s - loss: 0.8435 - accuracy: 0.6484\n",
      "Epoch 16: saving model to model/keypoint_classifier/keypoint_classifier.hdf5\n",
      "50/50 [==============================] - 0s 1ms/step - loss: 0.8435 - accuracy: 0.6405 - val_loss: 0.5948 - val_accuracy: 0.8410\n",
      "Epoch 17/1000\n",
      " 1/50 [..............................] - ETA: 0s - loss: 0.8259 - accuracy: 0.6562\n",
      "Epoch 17: saving model to model/keypoint_classifier/keypoint_classifier.hdf5\n",
      "50/50 [==============================] - 0s 1ms/step - loss: 0.8265 - accuracy: 0.6453 - val_loss: 0.5744 - val_accuracy: 0.8400\n",
      "Epoch 18/1000\n",
      " 1/50 [..............................] - ETA: 0s - loss: 0.7541 - accuracy: 0.7031\n",
      "Epoch 18: saving model to model/keypoint_classifier/keypoint_classifier.hdf5\n",
      "50/50 [==============================] - 0s 1ms/step - loss: 0.8204 - accuracy: 0.6527 - val_loss: 0.5658 - val_accuracy: 0.8520\n",
      "Epoch 19/1000\n",
      " 1/50 [..............................] - ETA: 0s - loss: 0.7913 - accuracy: 0.6875\n",
      "Epoch 19: saving model to model/keypoint_classifier/keypoint_classifier.hdf5\n",
      "50/50 [==============================] - 0s 1ms/step - loss: 0.7975 - accuracy: 0.6683 - val_loss: 0.5487 - val_accuracy: 0.8309\n",
      "Epoch 20/1000\n",
      " 1/50 [..............................] - ETA: 0s - loss: 0.7894 - accuracy: 0.6250\n",
      "Epoch 20: saving model to model/keypoint_classifier/keypoint_classifier.hdf5\n",
      "50/50 [==============================] - 0s 1ms/step - loss: 0.8038 - accuracy: 0.6695 - val_loss: 0.5395 - val_accuracy: 0.8415\n",
      "Epoch 21/1000\n",
      " 1/50 [..............................] - ETA: 0s - loss: 0.7770 - accuracy: 0.6328\n",
      "Epoch 21: saving model to model/keypoint_classifier/keypoint_classifier.hdf5\n",
      "50/50 [==============================] - 0s 1ms/step - loss: 0.7931 - accuracy: 0.6627 - val_loss: 0.5291 - val_accuracy: 0.8553\n",
      "Epoch 22/1000\n",
      " 1/50 [..............................] - ETA: 0s - loss: 0.7619 - accuracy: 0.6328\n",
      "Epoch 22: saving model to model/keypoint_classifier/keypoint_classifier.hdf5\n",
      "50/50 [==============================] - 0s 1ms/step - loss: 0.7897 - accuracy: 0.6597 - val_loss: 0.5300 - val_accuracy: 0.8429\n",
      "Epoch 23/1000\n",
      " 1/50 [..............................] - ETA: 0s - loss: 0.8380 - accuracy: 0.6172\n",
      "Epoch 23: saving model to model/keypoint_classifier/keypoint_classifier.hdf5\n",
      "50/50 [==============================] - 0s 1ms/step - loss: 0.7708 - accuracy: 0.6769 - val_loss: 0.5104 - val_accuracy: 0.8715\n",
      "Epoch 24/1000\n",
      " 1/50 [..............................] - ETA: 0s - loss: 0.8351 - accuracy: 0.6641\n",
      "Epoch 24: saving model to model/keypoint_classifier/keypoint_classifier.hdf5\n",
      "50/50 [==============================] - 0s 1ms/step - loss: 0.7598 - accuracy: 0.6777 - val_loss: 0.4995 - val_accuracy: 0.8711\n",
      "Epoch 25/1000\n",
      " 1/50 [..............................] - ETA: 0s - loss: 0.7603 - accuracy: 0.6406\n",
      "Epoch 25: saving model to model/keypoint_classifier/keypoint_classifier.hdf5\n",
      "50/50 [==============================] - 0s 1ms/step - loss: 0.7561 - accuracy: 0.6805 - val_loss: 0.4923 - val_accuracy: 0.8696\n",
      "Epoch 26/1000\n",
      " 1/50 [..............................] - ETA: 0s - loss: 0.7632 - accuracy: 0.6406\n",
      "Epoch 26: saving model to model/keypoint_classifier/keypoint_classifier.hdf5\n",
      "50/50 [==============================] - 0s 1ms/step - loss: 0.7530 - accuracy: 0.6783 - val_loss: 0.4933 - val_accuracy: 0.8768\n",
      "Epoch 27/1000\n",
      " 1/50 [..............................] - ETA: 0s - loss: 0.7343 - accuracy: 0.6875\n",
      "Epoch 27: saving model to model/keypoint_classifier/keypoint_classifier.hdf5\n",
      "50/50 [==============================] - 0s 1ms/step - loss: 0.7517 - accuracy: 0.6880 - val_loss: 0.4863 - val_accuracy: 0.8763\n",
      "Epoch 28/1000\n",
      " 1/50 [..............................] - ETA: 0s - loss: 0.6185 - accuracy: 0.7578\n",
      "Epoch 28: saving model to model/keypoint_classifier/keypoint_classifier.hdf5\n",
      "50/50 [==============================] - 0s 1ms/step - loss: 0.7310 - accuracy: 0.6920 - val_loss: 0.4763 - val_accuracy: 0.8859\n",
      "Epoch 29/1000\n",
      " 1/50 [..............................] - ETA: 0s - loss: 0.7218 - accuracy: 0.7109\n",
      "Epoch 29: saving model to model/keypoint_classifier/keypoint_classifier.hdf5\n",
      "50/50 [==============================] - 0s 1ms/step - loss: 0.7495 - accuracy: 0.6772 - val_loss: 0.4749 - val_accuracy: 0.8868\n",
      "Epoch 30/1000\n",
      " 1/50 [..............................] - ETA: 0s - loss: 0.6924 - accuracy: 0.7031\n",
      "Epoch 30: saving model to model/keypoint_classifier/keypoint_classifier.hdf5\n",
      "50/50 [==============================] - 0s 1ms/step - loss: 0.7383 - accuracy: 0.6914 - val_loss: 0.4705 - val_accuracy: 0.8897\n",
      "Epoch 31/1000\n",
      " 1/50 [..............................] - ETA: 0s - loss: 0.8207 - accuracy: 0.6094\n",
      "Epoch 31: saving model to model/keypoint_classifier/keypoint_classifier.hdf5\n",
      "50/50 [==============================] - 0s 1ms/step - loss: 0.7270 - accuracy: 0.6890 - val_loss: 0.4657 - val_accuracy: 0.8897\n",
      "Epoch 32/1000\n",
      " 1/50 [..............................] - ETA: 0s - loss: 0.7499 - accuracy: 0.6875\n",
      "Epoch 32: saving model to model/keypoint_classifier/keypoint_classifier.hdf5\n",
      "50/50 [==============================] - 0s 1ms/step - loss: 0.7083 - accuracy: 0.7041 - val_loss: 0.4542 - val_accuracy: 0.8902\n",
      "Epoch 33/1000\n",
      " 1/50 [..............................] - ETA: 0s - loss: 0.7458 - accuracy: 0.6797\n",
      "Epoch 33: saving model to model/keypoint_classifier/keypoint_classifier.hdf5\n",
      "50/50 [==============================] - 0s 1ms/step - loss: 0.7077 - accuracy: 0.6971 - val_loss: 0.4518 - val_accuracy: 0.8954\n",
      "Epoch 34/1000\n",
      " 1/50 [..............................] - ETA: 0s - loss: 0.7324 - accuracy: 0.6875\n",
      "Epoch 34: saving model to model/keypoint_classifier/keypoint_classifier.hdf5\n",
      "50/50 [==============================] - 0s 1ms/step - loss: 0.7180 - accuracy: 0.6972 - val_loss: 0.4537 - val_accuracy: 0.9002\n",
      "Epoch 35/1000\n",
      " 1/50 [..............................] - ETA: 0s - loss: 0.5947 - accuracy: 0.7578\n",
      "Epoch 35: saving model to model/keypoint_classifier/keypoint_classifier.hdf5\n",
      "50/50 [==============================] - 0s 1ms/step - loss: 0.7095 - accuracy: 0.6987 - val_loss: 0.4520 - val_accuracy: 0.8988\n",
      "Epoch 36/1000\n",
      " 1/50 [..............................] - ETA: 0s - loss: 0.6593 - accuracy: 0.8203\n",
      "Epoch 36: saving model to model/keypoint_classifier/keypoint_classifier.hdf5\n",
      "50/50 [==============================] - 0s 1ms/step - loss: 0.6908 - accuracy: 0.7100 - val_loss: 0.4410 - val_accuracy: 0.9002\n",
      "Epoch 37/1000\n",
      " 1/50 [..............................] - ETA: 0s - loss: 0.8722 - accuracy: 0.6719\n",
      "Epoch 37: saving model to model/keypoint_classifier/keypoint_classifier.hdf5\n",
      "50/50 [==============================] - 0s 1ms/step - loss: 0.6928 - accuracy: 0.7154 - val_loss: 0.4286 - val_accuracy: 0.9169\n",
      "Epoch 38/1000\n",
      " 1/50 [..............................] - ETA: 0s - loss: 0.7147 - accuracy: 0.7266\n",
      "Epoch 38: saving model to model/keypoint_classifier/keypoint_classifier.hdf5\n",
      "50/50 [==============================] - 0s 1ms/step - loss: 0.6848 - accuracy: 0.7073 - val_loss: 0.4271 - val_accuracy: 0.9126\n",
      "Epoch 39/1000\n",
      " 1/50 [..............................] - ETA: 0s - loss: 0.7574 - accuracy: 0.7109\n",
      "Epoch 39: saving model to model/keypoint_classifier/keypoint_classifier.hdf5\n",
      "50/50 [==============================] - 0s 1ms/step - loss: 0.6864 - accuracy: 0.7125 - val_loss: 0.4402 - val_accuracy: 0.8940\n",
      "Epoch 40/1000\n",
      "46/50 [==========================>...] - ETA: 0s - loss: 0.6815 - accuracy: 0.7165\n",
      "Epoch 40: saving model to model/keypoint_classifier/keypoint_classifier.hdf5\n",
      "50/50 [==============================] - 0s 2ms/step - loss: 0.6814 - accuracy: 0.7159 - val_loss: 0.4306 - val_accuracy: 0.9136\n",
      "Epoch 41/1000\n",
      " 1/50 [..............................] - ETA: 0s - loss: 0.5816 - accuracy: 0.7031\n",
      "Epoch 41: saving model to model/keypoint_classifier/keypoint_classifier.hdf5\n",
      "50/50 [==============================] - 0s 1ms/step - loss: 0.6614 - accuracy: 0.7232 - val_loss: 0.4239 - val_accuracy: 0.9064\n",
      "Epoch 42/1000\n",
      " 1/50 [..............................] - ETA: 0s - loss: 0.6102 - accuracy: 0.7656\n",
      "Epoch 42: saving model to model/keypoint_classifier/keypoint_classifier.hdf5\n",
      "50/50 [==============================] - 0s 1ms/step - loss: 0.6848 - accuracy: 0.7170 - val_loss: 0.4294 - val_accuracy: 0.9183\n",
      "Epoch 43/1000\n",
      " 1/50 [..............................] - ETA: 0s - loss: 0.6473 - accuracy: 0.7109\n",
      "Epoch 43: saving model to model/keypoint_classifier/keypoint_classifier.hdf5\n",
      "50/50 [==============================] - 0s 1ms/step - loss: 0.6835 - accuracy: 0.7101 - val_loss: 0.4229 - val_accuracy: 0.9131\n",
      "Epoch 44/1000\n",
      " 1/50 [..............................] - ETA: 0s - loss: 0.7061 - accuracy: 0.7188\n",
      "Epoch 44: saving model to model/keypoint_classifier/keypoint_classifier.hdf5\n",
      "50/50 [==============================] - 0s 1ms/step - loss: 0.6676 - accuracy: 0.7207 - val_loss: 0.4150 - val_accuracy: 0.9288\n",
      "Epoch 45/1000\n",
      " 1/50 [..............................] - ETA: 0s - loss: 0.6187 - accuracy: 0.7266\n",
      "Epoch 45: saving model to model/keypoint_classifier/keypoint_classifier.hdf5\n",
      "50/50 [==============================] - 0s 1ms/step - loss: 0.6573 - accuracy: 0.7299 - val_loss: 0.4114 - val_accuracy: 0.9183\n",
      "Epoch 46/1000\n",
      " 1/50 [..............................] - ETA: 0s - loss: 0.8117 - accuracy: 0.6719\n",
      "Epoch 46: saving model to model/keypoint_classifier/keypoint_classifier.hdf5\n",
      "50/50 [==============================] - 0s 1ms/step - loss: 0.6576 - accuracy: 0.7243 - val_loss: 0.4081 - val_accuracy: 0.9269\n",
      "Epoch 47/1000\n",
      " 1/50 [..............................] - ETA: 0s - loss: 0.5625 - accuracy: 0.7422\n",
      "Epoch 47: saving model to model/keypoint_classifier/keypoint_classifier.hdf5\n",
      "50/50 [==============================] - 0s 1ms/step - loss: 0.6433 - accuracy: 0.7321 - val_loss: 0.4096 - val_accuracy: 0.9298\n",
      "Epoch 48/1000\n",
      " 1/50 [..............................] - ETA: 0s - loss: 0.6480 - accuracy: 0.7188\n",
      "Epoch 48: saving model to model/keypoint_classifier/keypoint_classifier.hdf5\n",
      "50/50 [==============================] - 0s 1ms/step - loss: 0.6549 - accuracy: 0.7334 - val_loss: 0.4166 - val_accuracy: 0.9202\n",
      "Epoch 49/1000\n",
      " 1/50 [..............................] - ETA: 0s - loss: 0.6976 - accuracy: 0.6875\n",
      "Epoch 49: saving model to model/keypoint_classifier/keypoint_classifier.hdf5\n",
      "50/50 [==============================] - 0s 1ms/step - loss: 0.6491 - accuracy: 0.7224 - val_loss: 0.4177 - val_accuracy: 0.9150\n",
      "Epoch 50/1000\n",
      " 1/50 [..............................] - ETA: 0s - loss: 0.6559 - accuracy: 0.7422\n",
      "Epoch 50: saving model to model/keypoint_classifier/keypoint_classifier.hdf5\n",
      "50/50 [==============================] - 0s 1ms/step - loss: 0.6569 - accuracy: 0.7272 - val_loss: 0.4136 - val_accuracy: 0.8820\n",
      "Epoch 51/1000\n",
      " 1/50 [..............................] - ETA: 0s - loss: 0.6032 - accuracy: 0.7344\n",
      "Epoch 51: saving model to model/keypoint_classifier/keypoint_classifier.hdf5\n",
      "50/50 [==============================] - 0s 1ms/step - loss: 0.6403 - accuracy: 0.7312 - val_loss: 0.4015 - val_accuracy: 0.9222\n",
      "Epoch 52/1000\n",
      " 1/50 [..............................] - ETA: 0s - loss: 0.6935 - accuracy: 0.6641\n",
      "Epoch 52: saving model to model/keypoint_classifier/keypoint_classifier.hdf5\n",
      "50/50 [==============================] - 0s 1ms/step - loss: 0.6416 - accuracy: 0.7369 - val_loss: 0.3937 - val_accuracy: 0.9241\n",
      "Epoch 53/1000\n",
      " 1/50 [..............................] - ETA: 0s - loss: 0.5791 - accuracy: 0.7734\n",
      "Epoch 53: saving model to model/keypoint_classifier/keypoint_classifier.hdf5\n",
      "50/50 [==============================] - 0s 1ms/step - loss: 0.6515 - accuracy: 0.7332 - val_loss: 0.4045 - val_accuracy: 0.9245\n",
      "Epoch 54/1000\n",
      " 1/50 [..............................] - ETA: 0s - loss: 0.6550 - accuracy: 0.7500\n",
      "Epoch 54: saving model to model/keypoint_classifier/keypoint_classifier.hdf5\n",
      "50/50 [==============================] - 0s 1ms/step - loss: 0.6222 - accuracy: 0.7455 - val_loss: 0.4023 - val_accuracy: 0.9150\n",
      "Epoch 55/1000\n",
      " 1/50 [..............................] - ETA: 0s - loss: 0.5863 - accuracy: 0.7578\n",
      "Epoch 55: saving model to model/keypoint_classifier/keypoint_classifier.hdf5\n",
      "50/50 [==============================] - 0s 1ms/step - loss: 0.6275 - accuracy: 0.7375 - val_loss: 0.4199 - val_accuracy: 0.8768\n",
      "Epoch 56/1000\n",
      " 1/50 [..............................] - ETA: 0s - loss: 0.6069 - accuracy: 0.7812\n",
      "Epoch 56: saving model to model/keypoint_classifier/keypoint_classifier.hdf5\n",
      "50/50 [==============================] - 0s 1ms/step - loss: 0.6117 - accuracy: 0.7501 - val_loss: 0.4033 - val_accuracy: 0.8734\n",
      "Epoch 57/1000\n",
      " 1/50 [..............................] - ETA: 0s - loss: 0.5067 - accuracy: 0.8125\n",
      "Epoch 57: saving model to model/keypoint_classifier/keypoint_classifier.hdf5\n",
      "50/50 [==============================] - 0s 1ms/step - loss: 0.6230 - accuracy: 0.7474 - val_loss: 0.4003 - val_accuracy: 0.8878\n",
      "Epoch 58/1000\n",
      " 1/50 [..............................] - ETA: 0s - loss: 0.5915 - accuracy: 0.7734\n",
      "Epoch 58: saving model to model/keypoint_classifier/keypoint_classifier.hdf5\n",
      "50/50 [==============================] - 0s 1ms/step - loss: 0.5993 - accuracy: 0.7568 - val_loss: 0.4063 - val_accuracy: 0.8543\n",
      "Epoch 59/1000\n",
      " 1/50 [..............................] - ETA: 0s - loss: 0.6669 - accuracy: 0.7891\n",
      "Epoch 59: saving model to model/keypoint_classifier/keypoint_classifier.hdf5\n",
      "50/50 [==============================] - 0s 1ms/step - loss: 0.6173 - accuracy: 0.7434 - val_loss: 0.4009 - val_accuracy: 0.8706\n",
      "Epoch 60/1000\n",
      " 1/50 [..............................] - ETA: 0s - loss: 0.5742 - accuracy: 0.7578\n",
      "Epoch 60: saving model to model/keypoint_classifier/keypoint_classifier.hdf5\n",
      "50/50 [==============================] - 0s 1ms/step - loss: 0.6181 - accuracy: 0.7480 - val_loss: 0.3894 - val_accuracy: 0.9160\n",
      "Epoch 61/1000\n",
      " 1/50 [..............................] - ETA: 0s - loss: 0.6220 - accuracy: 0.7109\n",
      "Epoch 61: saving model to model/keypoint_classifier/keypoint_classifier.hdf5\n",
      "50/50 [==============================] - 0s 1ms/step - loss: 0.6049 - accuracy: 0.7555 - val_loss: 0.3807 - val_accuracy: 0.9298\n",
      "Epoch 62/1000\n",
      " 1/50 [..............................] - ETA: 0s - loss: 0.6073 - accuracy: 0.7344\n",
      "Epoch 62: saving model to model/keypoint_classifier/keypoint_classifier.hdf5\n",
      "50/50 [==============================] - 0s 1ms/step - loss: 0.5992 - accuracy: 0.7595 - val_loss: 0.3911 - val_accuracy: 0.9050\n",
      "Epoch 63/1000\n",
      " 1/50 [..............................] - ETA: 0s - loss: 0.5155 - accuracy: 0.7969\n",
      "Epoch 63: saving model to model/keypoint_classifier/keypoint_classifier.hdf5\n",
      "50/50 [==============================] - 0s 1ms/step - loss: 0.5973 - accuracy: 0.7576 - val_loss: 0.3915 - val_accuracy: 0.9236\n",
      "Epoch 64/1000\n",
      " 1/50 [..............................] - ETA: 0s - loss: 0.4748 - accuracy: 0.8203\n",
      "Epoch 64: saving model to model/keypoint_classifier/keypoint_classifier.hdf5\n",
      "50/50 [==============================] - 0s 1ms/step - loss: 0.5881 - accuracy: 0.7616 - val_loss: 0.3989 - val_accuracy: 0.8615\n",
      "Epoch 65/1000\n",
      " 1/50 [..............................] - ETA: 0s - loss: 0.5666 - accuracy: 0.7500\n",
      "Epoch 65: saving model to model/keypoint_classifier/keypoint_classifier.hdf5\n",
      "50/50 [==============================] - 0s 1ms/step - loss: 0.5994 - accuracy: 0.7586 - val_loss: 0.3848 - val_accuracy: 0.8964\n",
      "Epoch 66/1000\n",
      " 1/50 [..............................] - ETA: 0s - loss: 0.6109 - accuracy: 0.7109\n",
      "Epoch 66: saving model to model/keypoint_classifier/keypoint_classifier.hdf5\n",
      "50/50 [==============================] - 0s 1ms/step - loss: 0.6013 - accuracy: 0.7576 - val_loss: 0.3986 - val_accuracy: 0.8586\n",
      "Epoch 67/1000\n",
      " 1/50 [..............................] - ETA: 0s - loss: 0.5890 - accuracy: 0.7656\n",
      "Epoch 67: saving model to model/keypoint_classifier/keypoint_classifier.hdf5\n",
      "50/50 [==============================] - 0s 1ms/step - loss: 0.5756 - accuracy: 0.7711 - val_loss: 0.3689 - val_accuracy: 0.9336\n",
      "Epoch 68/1000\n",
      " 1/50 [..............................] - ETA: 0s - loss: 0.6826 - accuracy: 0.8203\n",
      "Epoch 68: saving model to model/keypoint_classifier/keypoint_classifier.hdf5\n",
      "50/50 [==============================] - 0s 1ms/step - loss: 0.5834 - accuracy: 0.7684 - val_loss: 0.3999 - val_accuracy: 0.8405\n",
      "Epoch 69/1000\n",
      " 1/50 [..............................] - ETA: 0s - loss: 0.5153 - accuracy: 0.7734\n",
      "Epoch 69: saving model to model/keypoint_classifier/keypoint_classifier.hdf5\n",
      "50/50 [==============================] - 0s 1ms/step - loss: 0.5909 - accuracy: 0.7581 - val_loss: 0.4004 - val_accuracy: 0.8510\n",
      "Epoch 70/1000\n",
      " 1/50 [..............................] - ETA: 0s - loss: 0.6514 - accuracy: 0.7578\n",
      "Epoch 70: saving model to model/keypoint_classifier/keypoint_classifier.hdf5\n",
      "50/50 [==============================] - 0s 1ms/step - loss: 0.5741 - accuracy: 0.7691 - val_loss: 0.3964 - val_accuracy: 0.8472\n",
      "Epoch 71/1000\n",
      " 1/50 [..............................] - ETA: 0s - loss: 0.6259 - accuracy: 0.7266\n",
      "Epoch 71: saving model to model/keypoint_classifier/keypoint_classifier.hdf5\n",
      "50/50 [==============================] - 0s 1ms/step - loss: 0.5818 - accuracy: 0.7617 - val_loss: 0.4071 - val_accuracy: 0.8520\n",
      "Epoch 72/1000\n",
      " 1/50 [..............................] - ETA: 0s - loss: 0.7410 - accuracy: 0.6953\n",
      "Epoch 72: saving model to model/keypoint_classifier/keypoint_classifier.hdf5\n",
      "50/50 [==============================] - 0s 1ms/step - loss: 0.5768 - accuracy: 0.7616 - val_loss: 0.4030 - val_accuracy: 0.8400\n",
      "Epoch 73/1000\n",
      " 1/50 [..............................] - ETA: 0s - loss: 0.5527 - accuracy: 0.8047\n",
      "Epoch 73: saving model to model/keypoint_classifier/keypoint_classifier.hdf5\n",
      "50/50 [==============================] - 0s 1ms/step - loss: 0.5785 - accuracy: 0.7662 - val_loss: 0.3944 - val_accuracy: 0.8515\n",
      "Epoch 74/1000\n",
      " 1/50 [..............................] - ETA: 0s - loss: 0.5545 - accuracy: 0.7734\n",
      "Epoch 74: saving model to model/keypoint_classifier/keypoint_classifier.hdf5\n",
      "50/50 [==============================] - 0s 1ms/step - loss: 0.5850 - accuracy: 0.7676 - val_loss: 0.3892 - val_accuracy: 0.8687\n",
      "Epoch 75/1000\n",
      " 1/50 [..............................] - ETA: 0s - loss: 0.6628 - accuracy: 0.7266\n",
      "Epoch 75: saving model to model/keypoint_classifier/keypoint_classifier.hdf5\n",
      "50/50 [==============================] - 0s 1ms/step - loss: 0.5677 - accuracy: 0.7710 - val_loss: 0.4038 - val_accuracy: 0.8372\n",
      "Epoch 76/1000\n",
      " 1/50 [..............................] - ETA: 0s - loss: 0.6080 - accuracy: 0.7500\n",
      "Epoch 76: saving model to model/keypoint_classifier/keypoint_classifier.hdf5\n",
      "50/50 [==============================] - 0s 1ms/step - loss: 0.5702 - accuracy: 0.7702 - val_loss: 0.3814 - val_accuracy: 0.8649\n",
      "Epoch 77/1000\n",
      " 1/50 [..............................] - ETA: 0s - loss: 0.5993 - accuracy: 0.7500\n",
      "Epoch 77: saving model to model/keypoint_classifier/keypoint_classifier.hdf5\n",
      "50/50 [==============================] - 0s 1ms/step - loss: 0.5602 - accuracy: 0.7676 - val_loss: 0.3800 - val_accuracy: 0.8840\n",
      "Epoch 78/1000\n",
      " 1/50 [..............................] - ETA: 0s - loss: 0.6084 - accuracy: 0.7422\n",
      "Epoch 78: saving model to model/keypoint_classifier/keypoint_classifier.hdf5\n",
      "50/50 [==============================] - 0s 1ms/step - loss: 0.5757 - accuracy: 0.7640 - val_loss: 0.3922 - val_accuracy: 0.8878\n",
      "Epoch 79/1000\n",
      " 1/50 [..............................] - ETA: 0s - loss: 0.5938 - accuracy: 0.7656\n",
      "Epoch 79: saving model to model/keypoint_classifier/keypoint_classifier.hdf5\n",
      "50/50 [==============================] - 0s 1ms/step - loss: 0.5680 - accuracy: 0.7769 - val_loss: 0.3993 - val_accuracy: 0.8424\n",
      "Epoch 80/1000\n",
      " 1/50 [..............................] - ETA: 0s - loss: 0.4680 - accuracy: 0.8125\n",
      "Epoch 80: saving model to model/keypoint_classifier/keypoint_classifier.hdf5\n",
      "50/50 [==============================] - 0s 1ms/step - loss: 0.5592 - accuracy: 0.7750 - val_loss: 0.3878 - val_accuracy: 0.8496\n",
      "Epoch 81/1000\n",
      " 1/50 [..............................] - ETA: 0s - loss: 0.5271 - accuracy: 0.7812\n",
      "Epoch 81: saving model to model/keypoint_classifier/keypoint_classifier.hdf5\n",
      "50/50 [==============================] - 0s 1ms/step - loss: 0.5555 - accuracy: 0.7695 - val_loss: 0.3964 - val_accuracy: 0.8415\n",
      "Epoch 82/1000\n",
      " 1/50 [..............................] - ETA: 0s - loss: 0.5616 - accuracy: 0.7812\n",
      "Epoch 82: saving model to model/keypoint_classifier/keypoint_classifier.hdf5\n",
      "50/50 [==============================] - 0s 1ms/step - loss: 0.5404 - accuracy: 0.7781 - val_loss: 0.3962 - val_accuracy: 0.8491\n",
      "Epoch 83/1000\n",
      " 1/50 [..............................] - ETA: 0s - loss: 0.4657 - accuracy: 0.8047\n",
      "Epoch 83: saving model to model/keypoint_classifier/keypoint_classifier.hdf5\n",
      "50/50 [==============================] - 0s 1ms/step - loss: 0.5495 - accuracy: 0.7781 - val_loss: 0.3728 - val_accuracy: 0.8954\n",
      "Epoch 84/1000\n",
      " 1/50 [..............................] - ETA: 0s - loss: 0.7450 - accuracy: 0.7109\n",
      "Epoch 84: saving model to model/keypoint_classifier/keypoint_classifier.hdf5\n",
      "50/50 [==============================] - 0s 1ms/step - loss: 0.5604 - accuracy: 0.7791 - val_loss: 0.3864 - val_accuracy: 0.8405\n",
      "Epoch 85/1000\n",
      " 1/50 [..............................] - ETA: 0s - loss: 0.5734 - accuracy: 0.7422\n",
      "Epoch 85: saving model to model/keypoint_classifier/keypoint_classifier.hdf5\n",
      "50/50 [==============================] - 0s 1ms/step - loss: 0.5529 - accuracy: 0.7774 - val_loss: 0.3863 - val_accuracy: 0.8481\n",
      "Epoch 86/1000\n",
      " 1/50 [..............................] - ETA: 0s - loss: 0.6038 - accuracy: 0.7188\n",
      "Epoch 86: saving model to model/keypoint_classifier/keypoint_classifier.hdf5\n",
      "50/50 [==============================] - 0s 1ms/step - loss: 0.5423 - accuracy: 0.7759 - val_loss: 0.3815 - val_accuracy: 0.8572\n",
      "Epoch 87/1000\n",
      " 1/50 [..............................] - ETA: 0s - loss: 0.6372 - accuracy: 0.7656\n",
      "Epoch 87: saving model to model/keypoint_classifier/keypoint_classifier.hdf5\n",
      "50/50 [==============================] - 0s 1ms/step - loss: 0.5303 - accuracy: 0.7941 - val_loss: 0.3655 - val_accuracy: 0.8811\n",
      "Epoch 88/1000\n",
      " 1/50 [..............................] - ETA: 0s - loss: 0.6440 - accuracy: 0.7188\n",
      "Epoch 88: saving model to model/keypoint_classifier/keypoint_classifier.hdf5\n",
      "50/50 [==============================] - 0s 1ms/step - loss: 0.5575 - accuracy: 0.7847 - val_loss: 0.3986 - val_accuracy: 0.8247\n",
      "Epoch 89/1000\n",
      " 1/50 [..............................] - ETA: 0s - loss: 0.5758 - accuracy: 0.7344\n",
      "Epoch 89: saving model to model/keypoint_classifier/keypoint_classifier.hdf5\n",
      "50/50 [==============================] - 0s 1ms/step - loss: 0.5434 - accuracy: 0.7823 - val_loss: 0.3870 - val_accuracy: 0.8548\n",
      "Epoch 90/1000\n",
      " 1/50 [..............................] - ETA: 0s - loss: 0.5986 - accuracy: 0.7734\n",
      "Epoch 90: saving model to model/keypoint_classifier/keypoint_classifier.hdf5\n",
      "50/50 [==============================] - 0s 1ms/step - loss: 0.5331 - accuracy: 0.7858 - val_loss: 0.3732 - val_accuracy: 0.8577\n",
      "Epoch 91/1000\n",
      " 1/50 [..............................] - ETA: 0s - loss: 0.5590 - accuracy: 0.7656\n",
      "Epoch 91: saving model to model/keypoint_classifier/keypoint_classifier.hdf5\n",
      "50/50 [==============================] - 0s 1ms/step - loss: 0.5404 - accuracy: 0.7871 - val_loss: 0.3690 - val_accuracy: 0.8629\n",
      "Epoch 92/1000\n",
      " 1/50 [..............................] - ETA: 0s - loss: 0.5317 - accuracy: 0.7656\n",
      "Epoch 92: saving model to model/keypoint_classifier/keypoint_classifier.hdf5\n",
      "50/50 [==============================] - 0s 1ms/step - loss: 0.5322 - accuracy: 0.7812 - val_loss: 0.3810 - val_accuracy: 0.8491\n",
      "Epoch 93/1000\n",
      " 1/50 [..............................] - ETA: 0s - loss: 0.5655 - accuracy: 0.7734\n",
      "Epoch 93: saving model to model/keypoint_classifier/keypoint_classifier.hdf5\n",
      "50/50 [==============================] - 0s 1ms/step - loss: 0.5379 - accuracy: 0.7887 - val_loss: 0.3776 - val_accuracy: 0.8438\n",
      "Epoch 94/1000\n",
      " 1/50 [..............................] - ETA: 0s - loss: 0.6102 - accuracy: 0.7578\n",
      "Epoch 94: saving model to model/keypoint_classifier/keypoint_classifier.hdf5\n",
      "50/50 [==============================] - 0s 1ms/step - loss: 0.5345 - accuracy: 0.7831 - val_loss: 0.3889 - val_accuracy: 0.8500\n",
      "Epoch 95/1000\n",
      " 1/50 [..............................] - ETA: 0s - loss: 0.5186 - accuracy: 0.8125\n",
      "Epoch 95: saving model to model/keypoint_classifier/keypoint_classifier.hdf5\n",
      "50/50 [==============================] - 0s 1ms/step - loss: 0.5368 - accuracy: 0.7834 - val_loss: 0.3683 - val_accuracy: 0.8730\n",
      "Epoch 96/1000\n",
      " 1/50 [..............................] - ETA: 0s - loss: 0.5980 - accuracy: 0.7500\n",
      "Epoch 96: saving model to model/keypoint_classifier/keypoint_classifier.hdf5\n",
      "50/50 [==============================] - 0s 1ms/step - loss: 0.5252 - accuracy: 0.7923 - val_loss: 0.3691 - val_accuracy: 0.8730\n",
      "Epoch 97/1000\n",
      " 1/50 [..............................] - ETA: 0s - loss: 0.4905 - accuracy: 0.8359\n",
      "Epoch 97: saving model to model/keypoint_classifier/keypoint_classifier.hdf5\n",
      "50/50 [==============================] - 0s 1ms/step - loss: 0.5144 - accuracy: 0.7903 - val_loss: 0.3702 - val_accuracy: 0.8668\n",
      "Epoch 98/1000\n",
      " 1/50 [..............................] - ETA: 0s - loss: 0.5496 - accuracy: 0.7969\n",
      "Epoch 98: saving model to model/keypoint_classifier/keypoint_classifier.hdf5\n",
      "50/50 [==============================] - 0s 1ms/step - loss: 0.5215 - accuracy: 0.7947 - val_loss: 0.3662 - val_accuracy: 0.8649\n",
      "Epoch 99/1000\n",
      " 1/50 [..............................] - ETA: 0s - loss: 0.4653 - accuracy: 0.8281\n",
      "Epoch 99: saving model to model/keypoint_classifier/keypoint_classifier.hdf5\n",
      "50/50 [==============================] - 0s 1ms/step - loss: 0.5230 - accuracy: 0.7880 - val_loss: 0.3694 - val_accuracy: 0.8582\n",
      "Epoch 100/1000\n",
      " 1/50 [..............................] - ETA: 0s - loss: 0.4658 - accuracy: 0.8047\n",
      "Epoch 100: saving model to model/keypoint_classifier/keypoint_classifier.hdf5\n",
      "50/50 [==============================] - 0s 1ms/step - loss: 0.5139 - accuracy: 0.7922 - val_loss: 0.3608 - val_accuracy: 0.8787\n",
      "Epoch 101/1000\n",
      " 1/50 [..............................] - ETA: 0s - loss: 0.5200 - accuracy: 0.7812\n",
      "Epoch 101: saving model to model/keypoint_classifier/keypoint_classifier.hdf5\n",
      "50/50 [==============================] - 0s 1ms/step - loss: 0.5214 - accuracy: 0.7928 - val_loss: 0.3719 - val_accuracy: 0.8553\n",
      "Epoch 102/1000\n",
      " 1/50 [..............................] - ETA: 0s - loss: 0.6083 - accuracy: 0.7812\n",
      "Epoch 102: saving model to model/keypoint_classifier/keypoint_classifier.hdf5\n",
      "50/50 [==============================] - 0s 1ms/step - loss: 0.5167 - accuracy: 0.7915 - val_loss: 0.3917 - val_accuracy: 0.8157\n",
      "Epoch 103/1000\n",
      " 1/50 [..............................] - ETA: 0s - loss: 0.6097 - accuracy: 0.7734\n",
      "Epoch 103: saving model to model/keypoint_classifier/keypoint_classifier.hdf5\n",
      "50/50 [==============================] - 0s 1ms/step - loss: 0.5196 - accuracy: 0.7933 - val_loss: 0.3916 - val_accuracy: 0.8214\n",
      "Epoch 104/1000\n",
      " 1/50 [..............................] - ETA: 0s - loss: 0.5827 - accuracy: 0.7812\n",
      "Epoch 104: saving model to model/keypoint_classifier/keypoint_classifier.hdf5\n",
      "50/50 [==============================] - 0s 1ms/step - loss: 0.5108 - accuracy: 0.8035 - val_loss: 0.3616 - val_accuracy: 0.8682\n",
      "Epoch 105/1000\n",
      " 1/50 [..............................] - ETA: 0s - loss: 0.6394 - accuracy: 0.7812\n",
      "Epoch 105: saving model to model/keypoint_classifier/keypoint_classifier.hdf5\n",
      "50/50 [==============================] - 0s 1ms/step - loss: 0.5026 - accuracy: 0.8014 - val_loss: 0.3819 - val_accuracy: 0.8319\n",
      "Epoch 106/1000\n",
      " 1/50 [..............................] - ETA: 0s - loss: 0.4603 - accuracy: 0.8125\n",
      "Epoch 106: saving model to model/keypoint_classifier/keypoint_classifier.hdf5\n",
      "50/50 [==============================] - 0s 1ms/step - loss: 0.5108 - accuracy: 0.8003 - val_loss: 0.3757 - val_accuracy: 0.8486\n",
      "Epoch 107/1000\n",
      " 1/50 [..............................] - ETA: 0s - loss: 0.5340 - accuracy: 0.7812\n",
      "Epoch 107: saving model to model/keypoint_classifier/keypoint_classifier.hdf5\n",
      "50/50 [==============================] - 0s 1ms/step - loss: 0.5076 - accuracy: 0.7985 - val_loss: 0.3739 - val_accuracy: 0.8376\n",
      "Epoch 108/1000\n",
      " 1/50 [..............................] - ETA: 0s - loss: 0.5539 - accuracy: 0.8203\n",
      "Epoch 108: saving model to model/keypoint_classifier/keypoint_classifier.hdf5\n",
      "50/50 [==============================] - 0s 1ms/step - loss: 0.5173 - accuracy: 0.7946 - val_loss: 0.3762 - val_accuracy: 0.8438\n",
      "Epoch 109/1000\n",
      " 1/50 [..............................] - ETA: 0s - loss: 0.4809 - accuracy: 0.8047\n",
      "Epoch 109: saving model to model/keypoint_classifier/keypoint_classifier.hdf5\n",
      "50/50 [==============================] - 0s 1ms/step - loss: 0.5107 - accuracy: 0.7950 - val_loss: 0.3729 - val_accuracy: 0.8405\n",
      "Epoch 110/1000\n",
      " 1/50 [..............................] - ETA: 0s - loss: 0.5133 - accuracy: 0.7969\n",
      "Epoch 110: saving model to model/keypoint_classifier/keypoint_classifier.hdf5\n",
      "50/50 [==============================] - 0s 1ms/step - loss: 0.5170 - accuracy: 0.7985 - val_loss: 0.3695 - val_accuracy: 0.8606\n",
      "Epoch 111/1000\n",
      " 1/50 [..............................] - ETA: 0s - loss: 0.6413 - accuracy: 0.7734\n",
      "Epoch 111: saving model to model/keypoint_classifier/keypoint_classifier.hdf5\n",
      "50/50 [==============================] - 0s 1ms/step - loss: 0.5080 - accuracy: 0.7960 - val_loss: 0.3767 - val_accuracy: 0.8372\n",
      "Epoch 112/1000\n",
      " 1/50 [..............................] - ETA: 0s - loss: 0.4903 - accuracy: 0.7891\n",
      "Epoch 112: saving model to model/keypoint_classifier/keypoint_classifier.hdf5\n",
      "50/50 [==============================] - 0s 1ms/step - loss: 0.4998 - accuracy: 0.8011 - val_loss: 0.3607 - val_accuracy: 0.8629\n",
      "Epoch 113/1000\n",
      " 1/50 [..............................] - ETA: 0s - loss: 0.4588 - accuracy: 0.8203\n",
      "Epoch 113: saving model to model/keypoint_classifier/keypoint_classifier.hdf5\n",
      "50/50 [==============================] - 0s 1ms/step - loss: 0.5014 - accuracy: 0.7976 - val_loss: 0.3691 - val_accuracy: 0.8443\n",
      "Epoch 114/1000\n",
      " 1/50 [..............................] - ETA: 0s - loss: 0.4249 - accuracy: 0.8594\n",
      "Epoch 114: saving model to model/keypoint_classifier/keypoint_classifier.hdf5\n",
      "50/50 [==============================] - 0s 1ms/step - loss: 0.5064 - accuracy: 0.8006 - val_loss: 0.3813 - val_accuracy: 0.8262\n",
      "Epoch 115/1000\n",
      " 1/50 [..............................] - ETA: 0s - loss: 0.5636 - accuracy: 0.7578\n",
      "Epoch 115: saving model to model/keypoint_classifier/keypoint_classifier.hdf5\n",
      "50/50 [==============================] - 0s 1ms/step - loss: 0.4989 - accuracy: 0.8025 - val_loss: 0.3731 - val_accuracy: 0.8553\n",
      "Epoch 116/1000\n",
      " 1/50 [..............................] - ETA: 0s - loss: 0.5515 - accuracy: 0.8125\n",
      "Epoch 116: saving model to model/keypoint_classifier/keypoint_classifier.hdf5\n",
      "50/50 [==============================] - 0s 1ms/step - loss: 0.4885 - accuracy: 0.8055 - val_loss: 0.3612 - val_accuracy: 0.8524\n",
      "Epoch 117/1000\n",
      " 1/50 [..............................] - ETA: 0s - loss: 0.5324 - accuracy: 0.7734\n",
      "Epoch 117: saving model to model/keypoint_classifier/keypoint_classifier.hdf5\n",
      "50/50 [==============================] - 0s 1ms/step - loss: 0.5139 - accuracy: 0.7946 - val_loss: 0.3877 - val_accuracy: 0.8209\n",
      "Epoch 118/1000\n",
      " 1/50 [..............................] - ETA: 0s - loss: 0.4419 - accuracy: 0.8125\n",
      "Epoch 118: saving model to model/keypoint_classifier/keypoint_classifier.hdf5\n",
      "50/50 [==============================] - 0s 1ms/step - loss: 0.5084 - accuracy: 0.7990 - val_loss: 0.3761 - val_accuracy: 0.8410\n",
      "Epoch 119/1000\n",
      " 1/50 [..............................] - ETA: 0s - loss: 0.4679 - accuracy: 0.8203\n",
      "Epoch 119: saving model to model/keypoint_classifier/keypoint_classifier.hdf5\n",
      "50/50 [==============================] - 0s 1ms/step - loss: 0.5073 - accuracy: 0.7985 - val_loss: 0.3741 - val_accuracy: 0.8467\n",
      "Epoch 120/1000\n",
      " 1/50 [..............................] - ETA: 0s - loss: 0.4415 - accuracy: 0.8203\n",
      "Epoch 120: saving model to model/keypoint_classifier/keypoint_classifier.hdf5\n",
      "50/50 [==============================] - 0s 1ms/step - loss: 0.4978 - accuracy: 0.8020 - val_loss: 0.3633 - val_accuracy: 0.8567\n",
      "Epoch 121/1000\n",
      " 1/50 [..............................] - ETA: 0s - loss: 0.4416 - accuracy: 0.8359\n",
      "Epoch 121: saving model to model/keypoint_classifier/keypoint_classifier.hdf5\n",
      "50/50 [==============================] - 0s 1ms/step - loss: 0.4919 - accuracy: 0.8060 - val_loss: 0.3665 - val_accuracy: 0.8730\n",
      "Epoch 122/1000\n",
      " 1/50 [..............................] - ETA: 0s - loss: 0.5404 - accuracy: 0.8047\n",
      "Epoch 122: saving model to model/keypoint_classifier/keypoint_classifier.hdf5\n",
      "50/50 [==============================] - 0s 1ms/step - loss: 0.4969 - accuracy: 0.8032 - val_loss: 0.3668 - val_accuracy: 0.8567\n",
      "Epoch 123/1000\n",
      " 1/50 [..............................] - ETA: 0s - loss: 0.4849 - accuracy: 0.8125\n",
      "Epoch 123: saving model to model/keypoint_classifier/keypoint_classifier.hdf5\n",
      "50/50 [==============================] - 0s 1ms/step - loss: 0.4967 - accuracy: 0.7985 - val_loss: 0.3749 - val_accuracy: 0.8481\n",
      "Epoch 124/1000\n",
      " 1/50 [..............................] - ETA: 0s - loss: 0.6008 - accuracy: 0.7656\n",
      "Epoch 124: saving model to model/keypoint_classifier/keypoint_classifier.hdf5\n",
      "50/50 [==============================] - 0s 1ms/step - loss: 0.5088 - accuracy: 0.7961 - val_loss: 0.3690 - val_accuracy: 0.8372\n",
      "Epoch 125/1000\n",
      " 1/50 [..............................] - ETA: 0s - loss: 0.4027 - accuracy: 0.8359\n",
      "Epoch 125: saving model to model/keypoint_classifier/keypoint_classifier.hdf5\n",
      "50/50 [==============================] - 0s 1ms/step - loss: 0.4997 - accuracy: 0.8022 - val_loss: 0.3741 - val_accuracy: 0.8410\n",
      "Epoch 126/1000\n",
      " 1/50 [..............................] - ETA: 0s - loss: 0.5120 - accuracy: 0.8125\n",
      "Epoch 126: saving model to model/keypoint_classifier/keypoint_classifier.hdf5\n",
      "50/50 [==============================] - 0s 1ms/step - loss: 0.4970 - accuracy: 0.7984 - val_loss: 0.3710 - val_accuracy: 0.8486\n",
      "Epoch 127/1000\n",
      " 1/50 [..............................] - ETA: 0s - loss: 0.4702 - accuracy: 0.8047\n",
      "Epoch 127: saving model to model/keypoint_classifier/keypoint_classifier.hdf5\n",
      "50/50 [==============================] - 0s 1ms/step - loss: 0.4999 - accuracy: 0.7977 - val_loss: 0.3707 - val_accuracy: 0.8625\n",
      "Epoch 128/1000\n",
      " 1/50 [..............................] - ETA: 0s - loss: 0.5897 - accuracy: 0.7891\n",
      "Epoch 128: saving model to model/keypoint_classifier/keypoint_classifier.hdf5\n",
      "50/50 [==============================] - 0s 1ms/step - loss: 0.4915 - accuracy: 0.8039 - val_loss: 0.3744 - val_accuracy: 0.8415\n",
      "Epoch 129/1000\n",
      " 1/50 [..............................] - ETA: 0s - loss: 0.6157 - accuracy: 0.7656\n",
      "Epoch 129: saving model to model/keypoint_classifier/keypoint_classifier.hdf5\n",
      "50/50 [==============================] - 0s 1ms/step - loss: 0.5072 - accuracy: 0.7979 - val_loss: 0.3655 - val_accuracy: 0.8734\n",
      "Epoch 130/1000\n",
      " 1/50 [..............................] - ETA: 0s - loss: 0.4541 - accuracy: 0.8125\n",
      "Epoch 130: saving model to model/keypoint_classifier/keypoint_classifier.hdf5\n",
      "50/50 [==============================] - 0s 1ms/step - loss: 0.4950 - accuracy: 0.7984 - val_loss: 0.3644 - val_accuracy: 0.8615\n",
      "Epoch 131/1000\n",
      " 1/50 [..............................] - ETA: 0s - loss: 0.5136 - accuracy: 0.8359\n",
      "Epoch 131: saving model to model/keypoint_classifier/keypoint_classifier.hdf5\n",
      "50/50 [==============================] - 0s 1ms/step - loss: 0.4834 - accuracy: 0.8113 - val_loss: 0.3620 - val_accuracy: 0.8572\n",
      "Epoch 132/1000\n",
      " 1/50 [..............................] - ETA: 0s - loss: 0.4532 - accuracy: 0.7500\n",
      "Epoch 132: saving model to model/keypoint_classifier/keypoint_classifier.hdf5\n",
      "50/50 [==============================] - 0s 1ms/step - loss: 0.4824 - accuracy: 0.8039 - val_loss: 0.3697 - val_accuracy: 0.8405\n",
      "Epoch 132: early stopping\n"
     ]
    },
    {
     "data": {
      "text/plain": [
       "<keras.callbacks.History at 0x2951687f0>"
      ]
     },
     "execution_count": 55,
     "metadata": {},
     "output_type": "execute_result"
    }
   ],
   "source": [
    "model.fit(\n",
    "    X_train,\n",
    "    y_train,\n",
    "    epochs=1000,\n",
    "    batch_size=128,\n",
    "    validation_data=(X_test, y_test),\n",
    "    callbacks=[cp_callback, es_callback]\n",
    ")"
   ]
  },
  {
   "cell_type": "code",
   "execution_count": null,
   "metadata": {},
   "outputs": [
    {
     "name": "stdout",
     "output_type": "stream",
     "text": [
      "17/17 [==============================] - 0s 508us/step - loss: 0.3697 - accuracy: 0.8405\n"
     ]
    }
   ],
   "source": [
    "# モデル評価\n",
    "val_loss, val_acc = model.evaluate(X_test, y_test, batch_size=128)"
   ]
  },
  {
   "cell_type": "code",
   "execution_count": null,
   "metadata": {},
   "outputs": [],
   "source": [
    "# 保存したモデルのロード\n",
    "model = tf.keras.models.load_model(model_save_path)"
   ]
  },
  {
   "cell_type": "code",
   "execution_count": null,
   "metadata": {},
   "outputs": [
    {
     "name": "stdout",
     "output_type": "stream",
     "text": [
      "1/1 [==============================] - 0s 35ms/step\n",
      "[1.1095661e-02 1.7012024e-02 1.7685968e-05 6.1690691e-04 5.2966630e-01\n",
      " 4.4159132e-01]\n",
      "4\n"
     ]
    }
   ],
   "source": [
    "# 推論テスト\n",
    "predict_result = model.predict(np.array([X_test[0]]))\n",
    "print(np.squeeze(predict_result))\n",
    "print(np.argmax(np.squeeze(predict_result)))"
   ]
  },
  {
   "cell_type": "markdown",
   "metadata": {},
   "source": [
    "# 混同行列"
   ]
  },
  {
   "cell_type": "code",
   "execution_count": null,
   "metadata": {},
   "outputs": [
    {
     "name": "stdout",
     "output_type": "stream",
     "text": [
      "66/66 [==============================] - 0s 443us/step\n"
     ]
    },
    {
     "data": {
      "image/png": "[encoded data removed]",
      "text/plain": [
       "<Figure size 700x600 with 2 Axes>"
      ]
     },
     "metadata": {},
     "output_type": "display_data"
    },
    {
     "name": "stdout",
     "output_type": "stream",
     "text": [
      "Classification Report\n",
      "              precision    recall  f1-score   support\n",
      "\n",
      "           0       0.96      0.99      0.98       398\n",
      "           1       0.99      0.91      0.95       398\n",
      "           3       0.99      0.99      0.99        79\n",
      "           4       0.90      0.51      0.65       574\n",
      "           5       0.69      0.98      0.81       645\n",
      "\n",
      "    accuracy                           0.84      2094\n",
      "   macro avg       0.91      0.88      0.88      2094\n",
      "weighted avg       0.87      0.84      0.83      2094\n",
      "\n"
     ]
    }
   ],
   "source": [
    "import pandas as pd\n",
    "import seaborn as sns\n",
    "import matplotlib.pyplot as plt\n",
    "from sklearn.metrics import confusion_matrix, classification_report\n",
    "\n",
    "def print_confusion_matrix(y_true, y_pred, report=True):\n",
    "    labels = sorted(list(set(y_true)))\n",
    "    cmx_data = confusion_matrix(y_true, y_pred, labels=labels)\n",
    "    \n",
    "    df_cmx = pd.DataFrame(cmx_data, index=labels, columns=labels)\n",
    " \n",
    "    fig, ax = plt.subplots(figsize=(7, 6))\n",
    "    sns.heatmap(df_cmx, annot=True, fmt='g' ,square=False)\n",
    "    ax.set_ylim(len(set(y_true)), 0)\n",
    "    plt.show()\n",
    "    \n",
    "    if report:\n",
    "        print('Classification Report')\n",
    "        print(classification_report(y_test, y_pred))\n",
    "\n",
    "Y_pred = model.predict(X_test)\n",
    "y_pred = np.argmax(Y_pred, axis=1)\n",
    "\n",
    "print_confusion_matrix(y_test, y_pred)"
   ]
  },
  {
   "cell_type": "markdown",
   "metadata": {},
   "source": [
    "# Tensorflow-Lite用のモデルへ変換"
   ]
  },
  {
   "cell_type": "code",
   "execution_count": null,
   "metadata": {},
   "outputs": [],
   "source": [
    "# 推論専用のモデルとして保存\n",
    "model.save(model_save_path, include_optimizer=False)"
   ]
  },
  {
   "cell_type": "code",
   "execution_count": null,
   "metadata": {},
   "outputs": [
    {
     "name": "stdout",
     "output_type": "stream",
     "text": [
      "INFO:tensorflow:Assets written to: /var/folders/7y/jht0wq9156v777kgwmnb4xl40000gn/T/tmpi6973yos/assets\n"
     ]
    },
    {
     "name": "stderr",
     "output_type": "stream",
     "text": [
      "INFO:tensorflow:Assets written to: /var/folders/7y/jht0wq9156v777kgwmnb4xl40000gn/T/tmpi6973yos/assets\n",
      "2023-08-16 16:23:05.114319: W tensorflow/compiler/mlir/lite/python/tf_tfl_flatbuffer_helpers.cc:364] Ignored output_format.\n",
      "2023-08-16 16:23:05.114342: W tensorflow/compiler/mlir/lite/python/tf_tfl_flatbuffer_helpers.cc:367] Ignored drop_control_dependency.\n",
      "2023-08-16 16:23:05.114522: I tensorflow/cc/saved_model/reader.cc:45] Reading SavedModel from: /var/folders/7y/jht0wq9156v777kgwmnb4xl40000gn/T/tmpi6973yos\n",
      "2023-08-16 16:23:05.115539: I tensorflow/cc/saved_model/reader.cc:91] Reading meta graph with tags { serve }\n",
      "2023-08-16 16:23:05.115546: I tensorflow/cc/saved_model/reader.cc:132] Reading SavedModel debug info (if present) from: /var/folders/7y/jht0wq9156v777kgwmnb4xl40000gn/T/tmpi6973yos\n",
      "2023-08-16 16:23:05.118669: I tensorflow/cc/saved_model/loader.cc:231] Restoring SavedModel bundle.\n",
      "2023-08-16 16:23:05.152816: I tensorflow/cc/saved_model/loader.cc:215] Running initialization op on SavedModel bundle at path: /var/folders/7y/jht0wq9156v777kgwmnb4xl40000gn/T/tmpi6973yos\n",
      "2023-08-16 16:23:05.163541: I tensorflow/cc/saved_model/loader.cc:314] SavedModel load for tags { serve }; Status: success: OK. Took 49019 microseconds.\n"
     ]
    },
    {
     "data": {
      "text/plain": [
       "6660"
      ]
     },
     "execution_count": 61,
     "metadata": {},
     "output_type": "execute_result"
    }
   ],
   "source": [
    "# モデルを変換(量子化)\n",
    "tflite_save_path = 'model/keypoint_classifier/keypoint_classifier.tflite'\n",
    "\n",
    "converter = tf.lite.TFLiteConverter.from_keras_model(model)\n",
    "converter.optimizations = [tf.lite.Optimize.DEFAULT]\n",
    "tflite_quantized_model = converter.convert()\n",
    "\n",
    "open(tflite_save_path, 'wb').write(tflite_quantized_model)"
   ]
  },
  {
   "cell_type": "markdown",
   "metadata": {},
   "source": [
    "# 推論テスト"
   ]
  },
  {
   "cell_type": "code",
   "execution_count": null,
   "metadata": {},
   "outputs": [],
   "source": [
    "interpreter = tf.lite.Interpreter(model_path=tflite_save_path)\n",
    "interpreter.allocate_tensors()"
   ]
  },
  {
   "cell_type": "code",
   "execution_count": null,
   "metadata": {},
   "outputs": [],
   "source": [
    "# 入出力テンソルを取得\n",
    "input_details = interpreter.get_input_details()\n",
    "output_details = interpreter.get_output_details()"
   ]
  },
  {
   "cell_type": "code",
   "execution_count": null,
   "metadata": {},
   "outputs": [],
   "source": [
    "interpreter.set_tensor(input_details[0]['index'], np.array([X_test[0]]))"
   ]
  },
  {
   "cell_type": "code",
   "execution_count": null,
   "metadata": {
    "scrolled": true
   },
   "outputs": [
    {
     "name": "stdout",
     "output_type": "stream",
     "text": [
      "CPU times: user 120 µs, sys: 37 µs, total: 157 µs\n",
      "Wall time: 166 µs\n"
     ]
    }
   ],
   "source": [
    "%%time\n",
    "# 推論実施\n",
    "interpreter.invoke()\n",
    "tflite_results = interpreter.get_tensor(output_details[0]['index'])"
   ]
  },
  {
   "cell_type": "code",
   "execution_count": null,
   "metadata": {},
   "outputs": [
    {
     "name": "stdout",
     "output_type": "stream",
     "text": [
      "[1.1095666e-02 1.7012041e-02 1.7685958e-05 6.1690720e-04 5.2966654e-01\n",
      " 4.4159120e-01]\n",
      "4\n"
     ]
    }
   ],
   "source": [
    "print(np.squeeze(tflite_results))\n",
    "print(np.argmax(np.squeeze(tflite_results)))"
   ]
  }
 ],
 "metadata": {
  "kernelspec": {
   "display_name": "Python 3",
   "language": "python",
   "name": "python3"
  },
  "language_info": {
   "codemirror_mode": {
    "name": "ipython",
    "version": 3
   },
   "file_extension": ".py",
   "mimetype": "text/x-python",
   "name": "python",
   "nbconvert_exporter": "python",
   "pygments_lexer": "ipython3",
   "version": "3.9.6"
  }
 },
 "nbformat": 4,
 "nbformat_minor": 4
}
