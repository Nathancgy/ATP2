{
 "cells": [
  {
   "cell_type": "code",
   "execution_count": 17,
   "metadata": {},
   "outputs": [],
   "source": [
    "import csv\n",
    "\n",
    "import numpy as np\n",
    "import tensorflow as tf\n",
    "from sklearn.model_selection import train_test_split\n",
    "\n",
    "RANDOM_SEED = 42"
   ]
  },
  {
   "cell_type": "markdown",
   "metadata": {},
   "source": [
    "# 各パス指定"
   ]
  },
  {
   "cell_type": "code",
   "execution_count": 18,
   "metadata": {},
   "outputs": [],
   "source": [
    "dataset = 'model/keypoint_classifier/keypoint.csv'\n",
    "model_save_path = 'model/keypoint_classifier/keypoint_classifier.hdf5'"
   ]
  },
  {
   "cell_type": "markdown",
   "metadata": {},
   "source": [
    "# 分類数設定"
   ]
  },
  {
   "cell_type": "code",
   "execution_count": 19,
   "metadata": {},
   "outputs": [],
   "source": [
    "NUM_CLASSES = 6"
   ]
  },
  {
   "cell_type": "markdown",
   "metadata": {},
   "source": [
    "# 学習データ読み込み"
   ]
  },
  {
   "cell_type": "code",
   "execution_count": 20,
   "metadata": {},
   "outputs": [],
   "source": [
    "X_dataset = np.loadtxt(dataset, delimiter=',', dtype='float32', usecols=list(range(1, (21 * 2) + 1)))"
   ]
  },
  {
   "cell_type": "code",
   "execution_count": 21,
   "metadata": {},
   "outputs": [],
   "source": [
    "y_dataset = np.loadtxt(dataset, delimiter=',', dtype='int32', usecols=(0))"
   ]
  },
  {
   "cell_type": "code",
   "execution_count": 22,
   "metadata": {},
   "outputs": [],
   "source": [
    "X_train, X_test, y_train, y_test = train_test_split(X_dataset, y_dataset, train_size=0.75, random_state=RANDOM_SEED)"
   ]
  },
  {
   "cell_type": "markdown",
   "metadata": {},
   "source": [
    "# モデル構築"
   ]
  },
  {
   "cell_type": "code",
   "execution_count": 23,
   "metadata": {},
   "outputs": [],
   "source": [
    "model = tf.keras.models.Sequential([\n",
    "    tf.keras.layers.Input((21 * 2, )),\n",
    "    tf.keras.layers.Dropout(0.2),\n",
    "    tf.keras.layers.Dense(20, activation='relu'),\n",
    "    tf.keras.layers.Dropout(0.4),\n",
    "    tf.keras.layers.Dense(10, activation='relu'),\n",
    "    tf.keras.layers.Dense(NUM_CLASSES, activation='softmax')\n",
    "])"
   ]
  },
  {
   "cell_type": "code",
   "execution_count": 24,
   "metadata": {},
   "outputs": [
    {
     "name": "stdout",
     "output_type": "stream",
     "text": [
      "Model: \"sequential_1\"\n",
      "_________________________________________________________________\n",
      " Layer (type)                Output Shape              Param #   \n",
      "=================================================================\n",
      " dropout_2 (Dropout)         (None, 42)                0         \n",
      "                                                                 \n",
      " dense_3 (Dense)             (None, 20)                860       \n",
      "                                                                 \n",
      " dropout_3 (Dropout)         (None, 20)                0         \n",
      "                                                                 \n",
      " dense_4 (Dense)             (None, 10)                210       \n",
      "                                                                 \n",
      " dense_5 (Dense)             (None, 6)                 66        \n",
      "                                                                 \n",
      "=================================================================\n",
      "Total params: 1136 (4.44 KB)\n",
      "Trainable params: 1136 (4.44 KB)\n",
      "Non-trainable params: 0 (0.00 Byte)\n",
      "_________________________________________________________________\n"
     ]
    }
   ],
   "source": [
    "model.summary()  # tf.keras.utils.plot_model(model, show_shapes=True)"
   ]
  },
  {
   "cell_type": "code",
   "execution_count": 25,
   "metadata": {},
   "outputs": [],
   "source": [
    "# モデルチェックポイントのコールバック\n",
    "cp_callback = tf.keras.callbacks.ModelCheckpoint(\n",
    "    model_save_path, verbose=1, save_weights_only=False)\n",
    "# 早期打ち切り用コールバック\n",
    "es_callback = tf.keras.callbacks.EarlyStopping(patience=20, verbose=1)"
   ]
  },
  {
   "cell_type": "code",
   "execution_count": 26,
   "metadata": {},
   "outputs": [],
   "source": [
    "# モデルコンパイル\n",
    "model.compile(\n",
    "    optimizer='adam',\n",
    "    loss='sparse_categorical_crossentropy',\n",
    "    metrics=['accuracy']\n",
    ")"
   ]
  },
  {
   "cell_type": "markdown",
   "metadata": {},
   "source": [
    "# モデル訓練"
   ]
  },
  {
   "cell_type": "code",
   "execution_count": 27,
   "metadata": {
    "scrolled": true
   },
   "outputs": [
    {
     "name": "stdout",
     "output_type": "stream",
     "text": [
      "Epoch 1/1000\n",
      " 1/51 [..............................] - ETA: 12s - loss: 1.8891 - accuracy: 0.1953\n",
      "Epoch 1: saving model to model/keypoint_classifier/keypoint_classifier.hdf5\n",
      "51/51 [==============================] - 0s 3ms/step - loss: 1.7175 - accuracy: 0.2793 - val_loss: 1.5886 - val_accuracy: 0.3627\n",
      "Epoch 2/1000\n",
      " 1/51 [..............................] - ETA: 0s - loss: 1.5695 - accuracy: 0.3438\n",
      "Epoch 2: saving model to model/keypoint_classifier/keypoint_classifier.hdf5\n",
      "51/51 [==============================] - 0s 1ms/step - loss: 1.5211 - accuracy: 0.3637 - val_loss: 1.3902 - val_accuracy: 0.4019\n",
      "Epoch 3/1000\n",
      " 1/51 [..............................] - ETA: 0s - loss: 1.4331 - accuracy: 0.4219\n",
      "Epoch 3: saving model to model/keypoint_classifier/keypoint_classifier.hdf5\n",
      "51/51 [==============================] - 0s 1ms/step - loss: 1.3950 - accuracy: 0.4054 - val_loss: 1.2457 - val_accuracy: 0.4746\n",
      "Epoch 4/1000\n",
      " 1/51 [..............................] - ETA: 0s - loss: 1.3207 - accuracy: 0.4922\n",
      "Epoch 4: saving model to model/keypoint_classifier/keypoint_classifier.hdf5\n",
      "51/51 [==============================] - 0s 1ms/step - loss: 1.2904 - accuracy: 0.4483 - val_loss: 1.1173 - val_accuracy: 0.6657\n",
      "Epoch 5/1000\n",
      " 1/51 [..............................] - ETA: 0s - loss: 1.2348 - accuracy: 0.4375\n",
      "Epoch 5: saving model to model/keypoint_classifier/keypoint_classifier.hdf5\n",
      "51/51 [==============================] - 0s 1ms/step - loss: 1.2031 - accuracy: 0.4908 - val_loss: 0.9990 - val_accuracy: 0.6951\n",
      "Epoch 6/1000\n",
      " 1/51 [..............................] - ETA: 0s - loss: 1.1657 - accuracy: 0.5469\n",
      "Epoch 6: saving model to model/keypoint_classifier/keypoint_classifier.hdf5\n",
      "51/51 [==============================] - 0s 1ms/step - loss: 1.1433 - accuracy: 0.5180 - val_loss: 0.9016 - val_accuracy: 0.7338\n",
      "Epoch 7/1000\n",
      " 1/51 [..............................] - ETA: 0s - loss: 1.1270 - accuracy: 0.4922\n",
      "Epoch 7: saving model to model/keypoint_classifier/keypoint_classifier.hdf5\n",
      "51/51 [==============================] - 0s 1ms/step - loss: 1.0812 - accuracy: 0.5316 - val_loss: 0.8309 - val_accuracy: 0.7949\n",
      "Epoch 8/1000\n",
      " 1/51 [..............................] - ETA: 0s - loss: 1.0692 - accuracy: 0.5469\n",
      "Epoch 8: saving model to model/keypoint_classifier/keypoint_classifier.hdf5\n",
      "51/51 [==============================] - 0s 1ms/step - loss: 1.0357 - accuracy: 0.5525 - val_loss: 0.7661 - val_accuracy: 0.8191\n",
      "Epoch 9/1000\n",
      " 1/51 [..............................] - ETA: 0s - loss: 0.9540 - accuracy: 0.6250\n",
      "Epoch 9: saving model to model/keypoint_classifier/keypoint_classifier.hdf5\n",
      "51/51 [==============================] - 0s 1ms/step - loss: 0.9984 - accuracy: 0.5747 - val_loss: 0.7181 - val_accuracy: 0.8368\n",
      "Epoch 10/1000\n",
      " 1/51 [..............................] - ETA: 0s - loss: 1.0556 - accuracy: 0.5547\n",
      "Epoch 10: saving model to model/keypoint_classifier/keypoint_classifier.hdf5\n",
      "51/51 [==============================] - 0s 1ms/step - loss: 0.9571 - accuracy: 0.5927 - val_loss: 0.6688 - val_accuracy: 0.8457\n",
      "Epoch 11/1000\n",
      " 1/51 [..............................] - ETA: 0s - loss: 1.0262 - accuracy: 0.5234\n",
      "Epoch 11: saving model to model/keypoint_classifier/keypoint_classifier.hdf5\n",
      "51/51 [==============================] - 0s 1ms/step - loss: 0.9380 - accuracy: 0.5951 - val_loss: 0.6336 - val_accuracy: 0.8690\n",
      "Epoch 12/1000\n",
      " 1/51 [..............................] - ETA: 0s - loss: 0.9607 - accuracy: 0.6172\n",
      "Epoch 12: saving model to model/keypoint_classifier/keypoint_classifier.hdf5\n",
      "51/51 [==============================] - 0s 1ms/step - loss: 0.9043 - accuracy: 0.6094 - val_loss: 0.5986 - val_accuracy: 0.8825\n",
      "Epoch 13/1000\n",
      " 1/51 [..............................] - ETA: 0s - loss: 0.8683 - accuracy: 0.5859\n",
      "Epoch 13: saving model to model/keypoint_classifier/keypoint_classifier.hdf5\n",
      "51/51 [==============================] - 0s 1ms/step - loss: 0.8858 - accuracy: 0.6108 - val_loss: 0.5796 - val_accuracy: 0.8830\n",
      "Epoch 14/1000\n",
      " 1/51 [..............................] - ETA: 0s - loss: 0.7507 - accuracy: 0.6641\n",
      "Epoch 14: saving model to model/keypoint_classifier/keypoint_classifier.hdf5\n",
      "51/51 [==============================] - 0s 1ms/step - loss: 0.8486 - accuracy: 0.6386 - val_loss: 0.5572 - val_accuracy: 0.8774\n",
      "Epoch 15/1000\n",
      " 1/51 [..............................] - ETA: 0s - loss: 0.8291 - accuracy: 0.6641\n",
      "Epoch 15: saving model to model/keypoint_classifier/keypoint_classifier.hdf5\n",
      "51/51 [==============================] - 0s 1ms/step - loss: 0.8284 - accuracy: 0.6434 - val_loss: 0.5368 - val_accuracy: 0.8811\n",
      "Epoch 16/1000\n",
      " 1/51 [..............................] - ETA: 0s - loss: 0.8698 - accuracy: 0.5938\n",
      "Epoch 16: saving model to model/keypoint_classifier/keypoint_classifier.hdf5\n",
      "51/51 [==============================] - 0s 1ms/step - loss: 0.8402 - accuracy: 0.6406 - val_loss: 0.5240 - val_accuracy: 0.9058\n",
      "Epoch 17/1000\n",
      " 1/51 [..............................] - ETA: 0s - loss: 0.8379 - accuracy: 0.6406\n",
      "Epoch 17: saving model to model/keypoint_classifier/keypoint_classifier.hdf5\n",
      "51/51 [==============================] - 0s 1ms/step - loss: 0.8121 - accuracy: 0.6625 - val_loss: 0.5084 - val_accuracy: 0.9091\n",
      "Epoch 18/1000\n",
      " 1/51 [..............................] - ETA: 0s - loss: 0.8460 - accuracy: 0.6719\n",
      "Epoch 18: saving model to model/keypoint_classifier/keypoint_classifier.hdf5\n",
      "51/51 [==============================] - 0s 1ms/step - loss: 0.8084 - accuracy: 0.6627 - val_loss: 0.4901 - val_accuracy: 0.9207\n",
      "Epoch 19/1000\n",
      " 1/51 [..............................] - ETA: 0s - loss: 0.7915 - accuracy: 0.6250\n",
      "Epoch 19: saving model to model/keypoint_classifier/keypoint_classifier.hdf5\n",
      "51/51 [==============================] - 0s 1ms/step - loss: 0.7762 - accuracy: 0.6656 - val_loss: 0.4823 - val_accuracy: 0.9217\n",
      "Epoch 20/1000\n",
      " 1/51 [..............................] - ETA: 0s - loss: 0.8697 - accuracy: 0.6328\n",
      "Epoch 20: saving model to model/keypoint_classifier/keypoint_classifier.hdf5\n",
      "51/51 [==============================] - 0s 1ms/step - loss: 0.7917 - accuracy: 0.6647 - val_loss: 0.4788 - val_accuracy: 0.9077\n",
      "Epoch 21/1000\n",
      " 1/51 [..............................] - ETA: 0s - loss: 0.6993 - accuracy: 0.7188\n",
      "Epoch 21: saving model to model/keypoint_classifier/keypoint_classifier.hdf5\n",
      "51/51 [==============================] - 0s 1ms/step - loss: 0.7657 - accuracy: 0.6753 - val_loss: 0.4665 - val_accuracy: 0.9166\n",
      "Epoch 22/1000\n",
      " 1/51 [..............................] - ETA: 0s - loss: 0.7617 - accuracy: 0.6797\n",
      "Epoch 22: saving model to model/keypoint_classifier/keypoint_classifier.hdf5\n",
      "51/51 [==============================] - 0s 1ms/step - loss: 0.7722 - accuracy: 0.6686 - val_loss: 0.4513 - val_accuracy: 0.9301\n",
      "Epoch 23/1000\n",
      " 1/51 [..............................] - ETA: 0s - loss: 0.7739 - accuracy: 0.6250\n",
      "Epoch 23: saving model to model/keypoint_classifier/keypoint_classifier.hdf5\n",
      "51/51 [==============================] - 0s 1ms/step - loss: 0.7692 - accuracy: 0.6746 - val_loss: 0.4503 - val_accuracy: 0.9277\n",
      "Epoch 24/1000\n",
      " 1/51 [..............................] - ETA: 0s - loss: 0.7607 - accuracy: 0.7109\n",
      "Epoch 24: saving model to model/keypoint_classifier/keypoint_classifier.hdf5\n",
      "51/51 [==============================] - 0s 1ms/step - loss: 0.7587 - accuracy: 0.6848 - val_loss: 0.4452 - val_accuracy: 0.9226\n",
      "Epoch 25/1000\n",
      " 1/51 [..............................] - ETA: 0s - loss: 0.8601 - accuracy: 0.5703\n",
      "Epoch 25: saving model to model/keypoint_classifier/keypoint_classifier.hdf5\n",
      "51/51 [==============================] - 0s 1ms/step - loss: 0.7515 - accuracy: 0.6869 - val_loss: 0.4313 - val_accuracy: 0.9315\n",
      "Epoch 26/1000\n",
      " 1/51 [..............................] - ETA: 0s - loss: 0.6730 - accuracy: 0.7578\n",
      "Epoch 26: saving model to model/keypoint_classifier/keypoint_classifier.hdf5\n",
      "51/51 [==============================] - 0s 1ms/step - loss: 0.7507 - accuracy: 0.6897 - val_loss: 0.4362 - val_accuracy: 0.9357\n",
      "Epoch 27/1000\n",
      " 1/51 [..............................] - ETA: 0s - loss: 0.8134 - accuracy: 0.6719\n",
      "Epoch 27: saving model to model/keypoint_classifier/keypoint_classifier.hdf5\n",
      "51/51 [==============================] - 0s 1ms/step - loss: 0.7254 - accuracy: 0.7026 - val_loss: 0.4288 - val_accuracy: 0.9226\n",
      "Epoch 28/1000\n",
      " 1/51 [..............................] - ETA: 0s - loss: 0.7168 - accuracy: 0.7266\n",
      "Epoch 28: saving model to model/keypoint_classifier/keypoint_classifier.hdf5\n",
      "51/51 [==============================] - 0s 1ms/step - loss: 0.7223 - accuracy: 0.7020 - val_loss: 0.4185 - val_accuracy: 0.9352\n",
      "Epoch 29/1000\n",
      " 1/51 [..............................] - ETA: 0s - loss: 0.7410 - accuracy: 0.6797\n",
      "Epoch 29: saving model to model/keypoint_classifier/keypoint_classifier.hdf5\n",
      "51/51 [==============================] - 0s 1ms/step - loss: 0.7336 - accuracy: 0.6933 - val_loss: 0.4116 - val_accuracy: 0.9385\n",
      "Epoch 30/1000\n",
      " 1/51 [..............................] - ETA: 0s - loss: 0.6290 - accuracy: 0.7344\n",
      "Epoch 30: saving model to model/keypoint_classifier/keypoint_classifier.hdf5\n",
      "51/51 [==============================] - 0s 1ms/step - loss: 0.7171 - accuracy: 0.7040 - val_loss: 0.4020 - val_accuracy: 0.9394\n",
      "Epoch 31/1000\n",
      " 1/51 [..............................] - ETA: 0s - loss: 0.6746 - accuracy: 0.7266\n",
      "Epoch 31: saving model to model/keypoint_classifier/keypoint_classifier.hdf5\n",
      "51/51 [==============================] - 0s 1ms/step - loss: 0.7028 - accuracy: 0.7143 - val_loss: 0.4058 - val_accuracy: 0.9417\n",
      "Epoch 32/1000\n",
      " 1/51 [..............................] - ETA: 0s - loss: 0.6919 - accuracy: 0.6719\n",
      "Epoch 32: saving model to model/keypoint_classifier/keypoint_classifier.hdf5\n",
      "51/51 [==============================] - 0s 1ms/step - loss: 0.6932 - accuracy: 0.7138 - val_loss: 0.3920 - val_accuracy: 0.9413\n",
      "Epoch 33/1000\n",
      " 1/51 [..............................] - ETA: 0s - loss: 0.9215 - accuracy: 0.6094\n",
      "Epoch 33: saving model to model/keypoint_classifier/keypoint_classifier.hdf5\n",
      "51/51 [==============================] - 0s 1ms/step - loss: 0.7049 - accuracy: 0.7070 - val_loss: 0.3921 - val_accuracy: 0.9431\n",
      "Epoch 34/1000\n",
      " 1/51 [..............................] - ETA: 0s - loss: 0.7611 - accuracy: 0.6562\n",
      "Epoch 34: saving model to model/keypoint_classifier/keypoint_classifier.hdf5\n",
      "51/51 [==============================] - 0s 1ms/step - loss: 0.6870 - accuracy: 0.7163 - val_loss: 0.3768 - val_accuracy: 0.9450\n",
      "Epoch 35/1000\n",
      " 1/51 [..............................] - ETA: 0s - loss: 0.7518 - accuracy: 0.6953\n",
      "Epoch 35: saving model to model/keypoint_classifier/keypoint_classifier.hdf5\n",
      "51/51 [==============================] - 0s 1ms/step - loss: 0.6898 - accuracy: 0.7235 - val_loss: 0.3891 - val_accuracy: 0.9371\n",
      "Epoch 36/1000\n",
      " 1/51 [..............................] - ETA: 0s - loss: 0.7973 - accuracy: 0.6641\n",
      "Epoch 36: saving model to model/keypoint_classifier/keypoint_classifier.hdf5\n",
      "51/51 [==============================] - 0s 1ms/step - loss: 0.6811 - accuracy: 0.7174 - val_loss: 0.3913 - val_accuracy: 0.9207\n",
      "Epoch 37/1000\n",
      " 1/51 [..............................] - ETA: 0s - loss: 0.7080 - accuracy: 0.6797\n",
      "Epoch 37: saving model to model/keypoint_classifier/keypoint_classifier.hdf5\n",
      "51/51 [==============================] - 0s 1ms/step - loss: 0.6692 - accuracy: 0.7231 - val_loss: 0.3675 - val_accuracy: 0.9408\n",
      "Epoch 38/1000\n",
      " 1/51 [..............................] - ETA: 0s - loss: 0.7880 - accuracy: 0.6719\n",
      "Epoch 38: saving model to model/keypoint_classifier/keypoint_classifier.hdf5\n",
      "51/51 [==============================] - 0s 1ms/step - loss: 0.6720 - accuracy: 0.7252 - val_loss: 0.3710 - val_accuracy: 0.9483\n",
      "Epoch 39/1000\n",
      " 1/51 [..............................] - ETA: 0s - loss: 0.6385 - accuracy: 0.7344\n",
      "Epoch 39: saving model to model/keypoint_classifier/keypoint_classifier.hdf5\n",
      "51/51 [==============================] - 0s 1ms/step - loss: 0.6770 - accuracy: 0.7235 - val_loss: 0.3812 - val_accuracy: 0.9450\n",
      "Epoch 40/1000\n",
      " 1/51 [..............................] - ETA: 0s - loss: 0.6457 - accuracy: 0.7422\n",
      "Epoch 40: saving model to model/keypoint_classifier/keypoint_classifier.hdf5\n",
      "51/51 [==============================] - 0s 1ms/step - loss: 0.6528 - accuracy: 0.7295 - val_loss: 0.3632 - val_accuracy: 0.9506\n",
      "Epoch 41/1000\n",
      " 1/51 [..............................] - ETA: 0s - loss: 0.6931 - accuracy: 0.7109\n",
      "Epoch 41: saving model to model/keypoint_classifier/keypoint_classifier.hdf5\n",
      "51/51 [==============================] - 0s 1ms/step - loss: 0.6663 - accuracy: 0.7231 - val_loss: 0.3635 - val_accuracy: 0.9529\n",
      "Epoch 42/1000\n",
      " 1/51 [..............................] - ETA: 0s - loss: 0.6406 - accuracy: 0.7422\n",
      "Epoch 42: saving model to model/keypoint_classifier/keypoint_classifier.hdf5\n",
      "51/51 [==============================] - 0s 1ms/step - loss: 0.6482 - accuracy: 0.7423 - val_loss: 0.3483 - val_accuracy: 0.9520\n",
      "Epoch 43/1000\n",
      " 1/51 [..............................] - ETA: 0s - loss: 0.6336 - accuracy: 0.7344\n",
      "Epoch 43: saving model to model/keypoint_classifier/keypoint_classifier.hdf5\n",
      "51/51 [==============================] - 0s 1ms/step - loss: 0.6577 - accuracy: 0.7303 - val_loss: 0.3506 - val_accuracy: 0.9524\n",
      "Epoch 44/1000\n",
      " 1/51 [..............................] - ETA: 0s - loss: 0.6901 - accuracy: 0.7266\n",
      "Epoch 44: saving model to model/keypoint_classifier/keypoint_classifier.hdf5\n",
      "51/51 [==============================] - 0s 1ms/step - loss: 0.6467 - accuracy: 0.7362 - val_loss: 0.3461 - val_accuracy: 0.9529\n",
      "Epoch 45/1000\n",
      " 1/51 [..............................] - ETA: 0s - loss: 0.6767 - accuracy: 0.7031\n",
      "Epoch 45: saving model to model/keypoint_classifier/keypoint_classifier.hdf5\n",
      "51/51 [==============================] - 0s 1ms/step - loss: 0.6308 - accuracy: 0.7384 - val_loss: 0.3431 - val_accuracy: 0.9529\n",
      "Epoch 46/1000\n",
      " 1/51 [..............................] - ETA: 0s - loss: 0.6922 - accuracy: 0.7422\n",
      "Epoch 46: saving model to model/keypoint_classifier/keypoint_classifier.hdf5\n",
      "51/51 [==============================] - 0s 1ms/step - loss: 0.6432 - accuracy: 0.7424 - val_loss: 0.3511 - val_accuracy: 0.9562\n",
      "Epoch 47/1000\n",
      " 1/51 [..............................] - ETA: 0s - loss: 0.6114 - accuracy: 0.7422\n",
      "Epoch 47: saving model to model/keypoint_classifier/keypoint_classifier.hdf5\n",
      "51/51 [==============================] - 0s 1ms/step - loss: 0.6207 - accuracy: 0.7479 - val_loss: 0.3374 - val_accuracy: 0.9580\n",
      "Epoch 48/1000\n",
      " 1/51 [..............................] - ETA: 0s - loss: 0.6058 - accuracy: 0.7656\n",
      "Epoch 48: saving model to model/keypoint_classifier/keypoint_classifier.hdf5\n",
      "51/51 [==============================] - 0s 1ms/step - loss: 0.6349 - accuracy: 0.7446 - val_loss: 0.3283 - val_accuracy: 0.9590\n",
      "Epoch 49/1000\n",
      " 1/51 [..............................] - ETA: 0s - loss: 0.6491 - accuracy: 0.7266\n",
      "Epoch 49: saving model to model/keypoint_classifier/keypoint_classifier.hdf5\n",
      "51/51 [==============================] - 0s 1ms/step - loss: 0.6185 - accuracy: 0.7533 - val_loss: 0.3335 - val_accuracy: 0.9557\n",
      "Epoch 50/1000\n",
      " 1/51 [..............................] - ETA: 0s - loss: 0.6588 - accuracy: 0.7344\n",
      "Epoch 50: saving model to model/keypoint_classifier/keypoint_classifier.hdf5\n",
      "51/51 [==============================] - 0s 1ms/step - loss: 0.6186 - accuracy: 0.7553 - val_loss: 0.3375 - val_accuracy: 0.9534\n",
      "Epoch 51/1000\n",
      " 1/51 [..............................] - ETA: 0s - loss: 0.5873 - accuracy: 0.8047\n",
      "Epoch 51: saving model to model/keypoint_classifier/keypoint_classifier.hdf5\n",
      "51/51 [==============================] - 0s 1ms/step - loss: 0.6126 - accuracy: 0.7536 - val_loss: 0.3281 - val_accuracy: 0.9576\n",
      "Epoch 52/1000\n",
      " 1/51 [..............................] - ETA: 0s - loss: 0.5635 - accuracy: 0.7656\n",
      "Epoch 52: saving model to model/keypoint_classifier/keypoint_classifier.hdf5\n",
      "51/51 [==============================] - 0s 1ms/step - loss: 0.6128 - accuracy: 0.7570 - val_loss: 0.3296 - val_accuracy: 0.9548\n",
      "Epoch 53/1000\n",
      " 1/51 [..............................] - ETA: 0s - loss: 0.5715 - accuracy: 0.7109\n",
      "Epoch 53: saving model to model/keypoint_classifier/keypoint_classifier.hdf5\n",
      "51/51 [==============================] - 0s 1ms/step - loss: 0.6157 - accuracy: 0.7531 - val_loss: 0.3203 - val_accuracy: 0.9594\n",
      "Epoch 54/1000\n",
      " 1/51 [..............................] - ETA: 0s - loss: 0.6552 - accuracy: 0.7344\n",
      "Epoch 54: saving model to model/keypoint_classifier/keypoint_classifier.hdf5\n",
      "51/51 [==============================] - 0s 1ms/step - loss: 0.5985 - accuracy: 0.7615 - val_loss: 0.3160 - val_accuracy: 0.9580\n",
      "Epoch 55/1000\n",
      " 1/51 [..............................] - ETA: 0s - loss: 0.5859 - accuracy: 0.7969\n",
      "Epoch 55: saving model to model/keypoint_classifier/keypoint_classifier.hdf5\n",
      "51/51 [==============================] - 0s 1ms/step - loss: 0.6088 - accuracy: 0.7598 - val_loss: 0.3173 - val_accuracy: 0.9627\n",
      "Epoch 56/1000\n",
      " 1/51 [..............................] - ETA: 0s - loss: 0.8165 - accuracy: 0.7266\n",
      "Epoch 56: saving model to model/keypoint_classifier/keypoint_classifier.hdf5\n",
      "51/51 [==============================] - 0s 1ms/step - loss: 0.6066 - accuracy: 0.7575 - val_loss: 0.3229 - val_accuracy: 0.9604\n",
      "Epoch 57/1000\n",
      " 1/51 [..............................] - ETA: 0s - loss: 0.5724 - accuracy: 0.7500\n",
      "Epoch 57: saving model to model/keypoint_classifier/keypoint_classifier.hdf5\n",
      "51/51 [==============================] - 0s 1ms/step - loss: 0.5993 - accuracy: 0.7642 - val_loss: 0.3252 - val_accuracy: 0.9580\n",
      "Epoch 58/1000\n",
      " 1/51 [..............................] - ETA: 0s - loss: 0.5902 - accuracy: 0.7969\n",
      "Epoch 58: saving model to model/keypoint_classifier/keypoint_classifier.hdf5\n",
      "51/51 [==============================] - 0s 1ms/step - loss: 0.5968 - accuracy: 0.7639 - val_loss: 0.3092 - val_accuracy: 0.9608\n",
      "Epoch 59/1000\n",
      " 1/51 [..............................] - ETA: 0s - loss: 0.6483 - accuracy: 0.7344\n",
      "Epoch 59: saving model to model/keypoint_classifier/keypoint_classifier.hdf5\n",
      "51/51 [==============================] - 0s 1ms/step - loss: 0.6038 - accuracy: 0.7609 - val_loss: 0.3309 - val_accuracy: 0.9576\n",
      "Epoch 60/1000\n",
      " 1/51 [..............................] - ETA: 0s - loss: 0.6165 - accuracy: 0.7734\n",
      "Epoch 60: saving model to model/keypoint_classifier/keypoint_classifier.hdf5\n",
      "51/51 [==============================] - 0s 1ms/step - loss: 0.5866 - accuracy: 0.7726 - val_loss: 0.3033 - val_accuracy: 0.9618\n",
      "Epoch 61/1000\n",
      " 1/51 [..............................] - ETA: 0s - loss: 0.6665 - accuracy: 0.7656\n",
      "Epoch 61: saving model to model/keypoint_classifier/keypoint_classifier.hdf5\n",
      "51/51 [==============================] - 0s 1ms/step - loss: 0.5859 - accuracy: 0.7713 - val_loss: 0.3133 - val_accuracy: 0.9636\n",
      "Epoch 62/1000\n",
      " 1/51 [..............................] - ETA: 0s - loss: 0.5700 - accuracy: 0.8047\n",
      "Epoch 62: saving model to model/keypoint_classifier/keypoint_classifier.hdf5\n",
      "51/51 [==============================] - 0s 1ms/step - loss: 0.5739 - accuracy: 0.7754 - val_loss: 0.3039 - val_accuracy: 0.9674\n",
      "Epoch 63/1000\n",
      " 1/51 [..............................] - ETA: 0s - loss: 0.6486 - accuracy: 0.7891\n",
      "Epoch 63: saving model to model/keypoint_classifier/keypoint_classifier.hdf5\n",
      "51/51 [==============================] - 0s 1ms/step - loss: 0.5626 - accuracy: 0.7808 - val_loss: 0.2996 - val_accuracy: 0.9646\n",
      "Epoch 64/1000\n",
      " 1/51 [..............................] - ETA: 0s - loss: 0.5806 - accuracy: 0.7656\n",
      "Epoch 64: saving model to model/keypoint_classifier/keypoint_classifier.hdf5\n",
      "51/51 [==============================] - 0s 1ms/step - loss: 0.5676 - accuracy: 0.7842 - val_loss: 0.3064 - val_accuracy: 0.9655\n",
      "Epoch 65/1000\n",
      " 1/51 [..............................] - ETA: 0s - loss: 0.5660 - accuracy: 0.7969\n",
      "Epoch 65: saving model to model/keypoint_classifier/keypoint_classifier.hdf5\n",
      "51/51 [==============================] - 0s 1ms/step - loss: 0.5753 - accuracy: 0.7769 - val_loss: 0.3141 - val_accuracy: 0.9641\n",
      "Epoch 66/1000\n",
      " 1/51 [..............................] - ETA: 0s - loss: 0.5450 - accuracy: 0.7969\n",
      "Epoch 66: saving model to model/keypoint_classifier/keypoint_classifier.hdf5\n",
      "51/51 [==============================] - 0s 1ms/step - loss: 0.5618 - accuracy: 0.7844 - val_loss: 0.3145 - val_accuracy: 0.9450\n",
      "Epoch 67/1000\n",
      " 1/51 [..............................] - ETA: 0s - loss: 0.5396 - accuracy: 0.7812\n",
      "Epoch 67: saving model to model/keypoint_classifier/keypoint_classifier.hdf5\n",
      "51/51 [==============================] - 0s 1ms/step - loss: 0.5657 - accuracy: 0.7776 - val_loss: 0.2840 - val_accuracy: 0.9744\n",
      "Epoch 68/1000\n",
      " 1/51 [..............................] - ETA: 0s - loss: 0.3928 - accuracy: 0.8359\n",
      "Epoch 68: saving model to model/keypoint_classifier/keypoint_classifier.hdf5\n",
      "51/51 [==============================] - 0s 1ms/step - loss: 0.5719 - accuracy: 0.7738 - val_loss: 0.2962 - val_accuracy: 0.9697\n",
      "Epoch 69/1000\n",
      " 1/51 [..............................] - ETA: 0s - loss: 0.4605 - accuracy: 0.7969\n",
      "Epoch 69: saving model to model/keypoint_classifier/keypoint_classifier.hdf5\n",
      "51/51 [==============================] - 0s 1ms/step - loss: 0.5605 - accuracy: 0.7869 - val_loss: 0.2965 - val_accuracy: 0.9730\n",
      "Epoch 70/1000\n",
      " 1/51 [..............................] - ETA: 0s - loss: 0.5530 - accuracy: 0.7891\n",
      "Epoch 70: saving model to model/keypoint_classifier/keypoint_classifier.hdf5\n",
      "51/51 [==============================] - 0s 1ms/step - loss: 0.5525 - accuracy: 0.7858 - val_loss: 0.2961 - val_accuracy: 0.9734\n",
      "Epoch 71/1000\n",
      " 1/51 [..............................] - ETA: 0s - loss: 0.4661 - accuracy: 0.8281\n",
      "Epoch 71: saving model to model/keypoint_classifier/keypoint_classifier.hdf5\n",
      "51/51 [==============================] - 0s 1ms/step - loss: 0.5627 - accuracy: 0.7844 - val_loss: 0.2991 - val_accuracy: 0.9772\n",
      "Epoch 72/1000\n",
      " 1/51 [..............................] - ETA: 0s - loss: 0.4849 - accuracy: 0.7891\n",
      "Epoch 72: saving model to model/keypoint_classifier/keypoint_classifier.hdf5\n",
      "51/51 [==============================] - 0s 1ms/step - loss: 0.5546 - accuracy: 0.7807 - val_loss: 0.3016 - val_accuracy: 0.9706\n",
      "Epoch 73/1000\n",
      " 1/51 [..............................] - ETA: 0s - loss: 0.5346 - accuracy: 0.7578\n",
      "Epoch 73: saving model to model/keypoint_classifier/keypoint_classifier.hdf5\n",
      "51/51 [==============================] - 0s 1ms/step - loss: 0.5449 - accuracy: 0.7940 - val_loss: 0.2868 - val_accuracy: 0.9776\n",
      "Epoch 74/1000\n",
      " 1/51 [..............................] - ETA: 0s - loss: 0.6556 - accuracy: 0.7812\n",
      "Epoch 74: saving model to model/keypoint_classifier/keypoint_classifier.hdf5\n",
      "51/51 [==============================] - 0s 1ms/step - loss: 0.5599 - accuracy: 0.7881 - val_loss: 0.3031 - val_accuracy: 0.9758\n",
      "Epoch 75/1000\n",
      " 1/51 [..............................] - ETA: 0s - loss: 0.5183 - accuracy: 0.7969\n",
      "Epoch 75: saving model to model/keypoint_classifier/keypoint_classifier.hdf5\n",
      "51/51 [==============================] - 0s 1ms/step - loss: 0.5310 - accuracy: 0.7988 - val_loss: 0.2846 - val_accuracy: 0.9762\n",
      "Epoch 76/1000\n",
      " 1/51 [..............................] - ETA: 0s - loss: 0.5119 - accuracy: 0.7734\n",
      "Epoch 76: saving model to model/keypoint_classifier/keypoint_classifier.hdf5\n",
      "51/51 [==============================] - 0s 1ms/step - loss: 0.5387 - accuracy: 0.7905 - val_loss: 0.2908 - val_accuracy: 0.9786\n",
      "Epoch 77/1000\n",
      " 1/51 [..............................] - ETA: 0s - loss: 0.6028 - accuracy: 0.7500\n",
      "Epoch 77: saving model to model/keypoint_classifier/keypoint_classifier.hdf5\n",
      "51/51 [==============================] - 0s 1ms/step - loss: 0.5551 - accuracy: 0.7819 - val_loss: 0.3100 - val_accuracy: 0.9730\n",
      "Epoch 78/1000\n",
      " 1/51 [..............................] - ETA: 0s - loss: 0.7379 - accuracy: 0.7734\n",
      "Epoch 78: saving model to model/keypoint_classifier/keypoint_classifier.hdf5\n",
      "51/51 [==============================] - 0s 1ms/step - loss: 0.5212 - accuracy: 0.7987 - val_loss: 0.2982 - val_accuracy: 0.9772\n",
      "Epoch 79/1000\n",
      " 1/51 [..............................] - ETA: 0s - loss: 0.4273 - accuracy: 0.8359\n",
      "Epoch 79: saving model to model/keypoint_classifier/keypoint_classifier.hdf5\n",
      "51/51 [==============================] - 0s 1ms/step - loss: 0.5318 - accuracy: 0.7984 - val_loss: 0.2957 - val_accuracy: 0.9762\n",
      "Epoch 80/1000\n",
      " 1/51 [..............................] - ETA: 0s - loss: 0.5513 - accuracy: 0.7578\n",
      "Epoch 80: saving model to model/keypoint_classifier/keypoint_classifier.hdf5\n",
      "51/51 [==============================] - 0s 1ms/step - loss: 0.5396 - accuracy: 0.7964 - val_loss: 0.2986 - val_accuracy: 0.9744\n",
      "Epoch 81/1000\n",
      " 1/51 [..............................] - ETA: 0s - loss: 0.6268 - accuracy: 0.7422\n",
      "Epoch 81: saving model to model/keypoint_classifier/keypoint_classifier.hdf5\n",
      "51/51 [==============================] - 0s 1ms/step - loss: 0.5247 - accuracy: 0.8013 - val_loss: 0.2923 - val_accuracy: 0.9804\n",
      "Epoch 82/1000\n",
      " 1/51 [..............................] - ETA: 0s - loss: 0.4403 - accuracy: 0.8438\n",
      "Epoch 82: saving model to model/keypoint_classifier/keypoint_classifier.hdf5\n",
      "51/51 [==============================] - 0s 1ms/step - loss: 0.5337 - accuracy: 0.7943 - val_loss: 0.2855 - val_accuracy: 0.9790\n",
      "Epoch 83/1000\n",
      " 1/51 [..............................] - ETA: 0s - loss: 0.7728 - accuracy: 0.7969\n",
      "Epoch 83: saving model to model/keypoint_classifier/keypoint_classifier.hdf5\n",
      "51/51 [==============================] - 0s 1ms/step - loss: 0.5368 - accuracy: 0.7922 - val_loss: 0.2887 - val_accuracy: 0.9753\n",
      "Epoch 84/1000\n",
      " 1/51 [..............................] - ETA: 0s - loss: 0.5169 - accuracy: 0.7500\n",
      "Epoch 84: saving model to model/keypoint_classifier/keypoint_classifier.hdf5\n",
      "51/51 [==============================] - 0s 1ms/step - loss: 0.5314 - accuracy: 0.7981 - val_loss: 0.3030 - val_accuracy: 0.9748\n",
      "Epoch 85/1000\n",
      " 1/51 [..............................] - ETA: 0s - loss: 0.4406 - accuracy: 0.8047\n",
      "Epoch 85: saving model to model/keypoint_classifier/keypoint_classifier.hdf5\n",
      "51/51 [==============================] - 0s 1ms/step - loss: 0.5154 - accuracy: 0.7979 - val_loss: 0.2948 - val_accuracy: 0.9832\n",
      "Epoch 86/1000\n",
      " 1/51 [..............................] - ETA: 0s - loss: 0.5919 - accuracy: 0.7578\n",
      "Epoch 86: saving model to model/keypoint_classifier/keypoint_classifier.hdf5\n",
      "51/51 [==============================] - 0s 1ms/step - loss: 0.5288 - accuracy: 0.7979 - val_loss: 0.2964 - val_accuracy: 0.9790\n",
      "Epoch 87/1000\n",
      " 1/51 [..............................] - ETA: 0s - loss: 0.5671 - accuracy: 0.7656\n",
      "Epoch 87: saving model to model/keypoint_classifier/keypoint_classifier.hdf5\n",
      "51/51 [==============================] - 0s 1ms/step - loss: 0.5255 - accuracy: 0.7940 - val_loss: 0.3017 - val_accuracy: 0.9790\n",
      "Epoch 87: early stopping\n"
     ]
    },
    {
     "data": {
      "text/plain": [
       "<keras.src.callbacks.History at 0x2ca6ff730>"
      ]
     },
     "execution_count": 27,
     "metadata": {},
     "output_type": "execute_result"
    }
   ],
   "source": [
    "model.fit(\n",
    "    X_train,\n",
    "    y_train,\n",
    "    epochs=1000,\n",
    "    batch_size=128,\n",
    "    validation_data=(X_test, y_test),\n",
    "    callbacks=[cp_callback, es_callback]\n",
    ")"
   ]
  },
  {
   "cell_type": "code",
   "execution_count": 28,
   "metadata": {},
   "outputs": [
    {
     "name": "stdout",
     "output_type": "stream",
     "text": [
      "17/17 [==============================] - 0s 550us/step - loss: 0.3017 - accuracy: 0.9790\n"
     ]
    }
   ],
   "source": [
    "# モデル評価\n",
    "val_loss, val_acc = model.evaluate(X_test, y_test, batch_size=128)"
   ]
  },
  {
   "cell_type": "code",
   "execution_count": 29,
   "metadata": {},
   "outputs": [],
   "source": [
    "# 保存したモデルのロード\n",
    "model = tf.keras.models.load_model(model_save_path)"
   ]
  },
  {
   "cell_type": "code",
   "execution_count": 30,
   "metadata": {},
   "outputs": [
    {
     "name": "stdout",
     "output_type": "stream",
     "text": [
      "1/1 [==============================] - 0s 36ms/step\n",
      "[8.7632912e-01 1.2337219e-01 3.3324671e-10 2.9663942e-04 3.2281058e-08\n",
      " 1.9874740e-06]\n",
      "0\n"
     ]
    }
   ],
   "source": [
    "# 推論テスト\n",
    "predict_result = model.predict(np.array([X_test[0]]))\n",
    "print(np.squeeze(predict_result))\n",
    "print(np.argmax(np.squeeze(predict_result)))"
   ]
  },
  {
   "cell_type": "markdown",
   "metadata": {},
   "source": [
    "# 混同行列"
   ]
  },
  {
   "cell_type": "code",
   "execution_count": 31,
   "metadata": {},
   "outputs": [
    {
     "name": "stdout",
     "output_type": "stream",
     "text": [
      "68/68 [==============================] - 0s 432us/step\n"
     ]
    },
    {
     "data": {
      "image/png": "[encoded data removed]",
      "text/plain": [
       "<Figure size 700x600 with 2 Axes>"
      ]
     },
     "metadata": {},
     "output_type": "display_data"
    },
    {
     "name": "stdout",
     "output_type": "stream",
     "text": [
      "Classification Report\n",
      "              precision    recall  f1-score   support\n",
      "\n",
      "           0       0.97      1.00      0.98       412\n",
      "           1       1.00      0.95      0.97       446\n",
      "           3       1.00      0.98      0.99        83\n",
      "           4       0.98      0.97      0.97       527\n",
      "           5       0.97      1.00      0.98       677\n",
      "\n",
      "    accuracy                           0.98      2145\n",
      "   macro avg       0.98      0.98      0.98      2145\n",
      "weighted avg       0.98      0.98      0.98      2145\n",
      "\n"
     ]
    }
   ],
   "source": [
    "import pandas as pd\n",
    "import seaborn as sns\n",
    "import matplotlib.pyplot as plt\n",
    "from sklearn.metrics import confusion_matrix, classification_report\n",
    "\n",
    "def print_confusion_matrix(y_true, y_pred, report=True):\n",
    "    labels = sorted(list(set(y_true)))\n",
    "    cmx_data = confusion_matrix(y_true, y_pred, labels=labels)\n",
    "    \n",
    "    df_cmx = pd.DataFrame(cmx_data, index=labels, columns=labels)\n",
    " \n",
    "    fig, ax = plt.subplots(figsize=(7, 6))\n",
    "    sns.heatmap(df_cmx, annot=True, fmt='g' ,square=False)\n",
    "    ax.set_ylim(len(set(y_true)), 0)\n",
    "    plt.show()\n",
    "    \n",
    "    if report:\n",
    "        print('Classification Report')\n",
    "        print(classification_report(y_test, y_pred))\n",
    "\n",
    "Y_pred = model.predict(X_test)\n",
    "y_pred = np.argmax(Y_pred, axis=1)\n",
    "\n",
    "print_confusion_matrix(y_test, y_pred)"
   ]
  },
  {
   "cell_type": "markdown",
   "metadata": {},
   "source": [
    "# Tensorflow-Lite用のモデルへ変換"
   ]
  },
  {
   "cell_type": "code",
   "execution_count": 32,
   "metadata": {},
   "outputs": [
    {
     "name": "stderr",
     "output_type": "stream",
     "text": [
      "/Users/nathanchen/Library/Python/3.9/lib/python/site-packages/keras/src/engine/training.py:3000: UserWarning: You are saving your model as an HDF5 file via `model.save()`. This file format is considered legacy. We recommend using instead the native Keras format, e.g. `model.save('my_model.keras')`.\n",
      "  saving_api.save_model(\n"
     ]
    }
   ],
   "source": [
    "# 推論専用のモデルとして保存\n",
    "model.save(model_save_path, include_optimizer=False)"
   ]
  },
  {
   "cell_type": "code",
   "execution_count": 33,
   "metadata": {},
   "outputs": [
    {
     "name": "stdout",
     "output_type": "stream",
     "text": [
      "INFO:tensorflow:Assets written to: /var/folders/zv/p71gj8sx65zfm5gg91s7p3zr0000gn/T/tmpstwmjv2b/assets\n"
     ]
    },
    {
     "name": "stderr",
     "output_type": "stream",
     "text": [
      "INFO:tensorflow:Assets written to: /var/folders/zv/p71gj8sx65zfm5gg91s7p3zr0000gn/T/tmpstwmjv2b/assets\n",
      "2023-10-17 12:51:23.261178: W tensorflow/compiler/mlir/lite/python/tf_tfl_flatbuffer_helpers.cc:364] Ignored output_format.\n",
      "2023-10-17 12:51:23.261208: W tensorflow/compiler/mlir/lite/python/tf_tfl_flatbuffer_helpers.cc:367] Ignored drop_control_dependency.\n",
      "2023-10-17 12:51:23.261573: I tensorflow/cc/saved_model/reader.cc:45] Reading SavedModel from: /var/folders/zv/p71gj8sx65zfm5gg91s7p3zr0000gn/T/tmpstwmjv2b\n",
      "2023-10-17 12:51:23.262363: I tensorflow/cc/saved_model/reader.cc:91] Reading meta graph with tags { serve }\n",
      "2023-10-17 12:51:23.262369: I tensorflow/cc/saved_model/reader.cc:132] Reading SavedModel debug info (if present) from: /var/folders/zv/p71gj8sx65zfm5gg91s7p3zr0000gn/T/tmpstwmjv2b\n",
      "2023-10-17 12:51:23.264197: I tensorflow/compiler/mlir/mlir_graph_optimization_pass.cc:375] MLIR V1 optimization pass is not enabled\n",
      "2023-10-17 12:51:23.265183: I tensorflow/cc/saved_model/loader.cc:231] Restoring SavedModel bundle.\n",
      "2023-10-17 12:51:23.301458: I tensorflow/cc/saved_model/loader.cc:215] Running initialization op on SavedModel bundle at path: /var/folders/zv/p71gj8sx65zfm5gg91s7p3zr0000gn/T/tmpstwmjv2b\n",
      "2023-10-17 12:51:23.312233: I tensorflow/cc/saved_model/loader.cc:314] SavedModel load for tags { serve }; Status: success: OK. Took 50661 microseconds.\n",
      "2023-10-17 12:51:23.325004: I tensorflow/compiler/mlir/tensorflow/utils/dump_mlir_util.cc:255] disabling MLIR crash reproducer, set env var `MLIR_CRASH_REPRODUCER_DIRECTORY` to enable.\n"
     ]
    },
    {
     "data": {
      "text/plain": [
       "6660"
      ]
     },
     "execution_count": 33,
     "metadata": {},
     "output_type": "execute_result"
    }
   ],
   "source": [
    "# モデルを変換(量子化)\n",
    "tflite_save_path = 'model/keypoint_classifier/keypoint_classifier.tflite'\n",
    "\n",
    "converter = tf.lite.TFLiteConverter.from_keras_model(model)\n",
    "converter.optimizations = [tf.lite.Optimize.DEFAULT]\n",
    "tflite_quantized_model = converter.convert()\n",
    "\n",
    "open(tflite_save_path, 'wb').write(tflite_quantized_model)"
   ]
  },
  {
   "cell_type": "markdown",
   "metadata": {},
   "source": [
    "# 推論テスト"
   ]
  },
  {
   "cell_type": "code",
   "execution_count": 34,
   "metadata": {},
   "outputs": [
    {
     "name": "stderr",
     "output_type": "stream",
     "text": [
      "INFO: Created TensorFlow Lite XNNPACK delegate for CPU.\n"
     ]
    }
   ],
   "source": [
    "interpreter = tf.lite.Interpreter(model_path=tflite_save_path)\n",
    "interpreter.allocate_tensors()"
   ]
  },
  {
   "cell_type": "code",
   "execution_count": 35,
   "metadata": {},
   "outputs": [],
   "source": [
    "# 入出力テンソルを取得\n",
    "input_details = interpreter.get_input_details()\n",
    "output_details = interpreter.get_output_details()"
   ]
  },
  {
   "cell_type": "code",
   "execution_count": 36,
   "metadata": {},
   "outputs": [],
   "source": [
    "interpreter.set_tensor(input_details[0]['index'], np.array([X_test[0]]))"
   ]
  },
  {
   "cell_type": "code",
   "execution_count": 37,
   "metadata": {
    "scrolled": true
   },
   "outputs": [
    {
     "name": "stdout",
     "output_type": "stream",
     "text": [
      "CPU times: user 135 µs, sys: 151 µs, total: 286 µs\n",
      "Wall time: 188 µs\n"
     ]
    }
   ],
   "source": [
    "%%time\n",
    "# 推論実施\n",
    "interpreter.invoke()\n",
    "tflite_results = interpreter.get_tensor(output_details[0]['index'])"
   ]
  },
  {
   "cell_type": "code",
   "execution_count": 38,
   "metadata": {},
   "outputs": [
    {
     "name": "stdout",
     "output_type": "stream",
     "text": [
      "[8.7632924e-01 1.2337214e-01 3.3324676e-10 2.9663934e-04 3.2281061e-08\n",
      " 1.9874722e-06]\n",
      "0\n"
     ]
    }
   ],
   "source": [
    "print(np.squeeze(tflite_results))\n",
    "print(np.argmax(np.squeeze(tflite_results)))"
   ]
  }
 ],
 "metadata": {
  "kernelspec": {
   "display_name": "Python 3",
   "language": "python",
   "name": "python3"
  },
  "language_info": {
   "codemirror_mode": {
    "name": "ipython",
    "version": 3
   },
   "file_extension": ".py",
   "mimetype": "text/x-python",
   "name": "python",
   "nbconvert_exporter": "python",
   "pygments_lexer": "ipython3",
   "version": "3.9.6"
  }
 },
 "nbformat": 4,
 "nbformat_minor": 4
}
